{
 "cells": [
  {
   "attachments": {},
   "cell_type": "markdown",
   "metadata": {},
   "source": [
    "## Concept of normality of a variable \n",
    "\n",
    "![Alt text](https://i0.wp.com/www.projectguru.in/wp-content/uploads/2020/03/1-19.jpg?w%3D544%26ssl%3D1)\n",
    "\n",
    "**to check the noramality of the variable** :\n",
    "  1. calc. mean and standard deviation \n",
    "  2. calc. \n",
    "      - x1 = (mean + sd) \n",
    "      - x2 = (mean - sd)\n",
    "  3. to get the area of the curve b/w +-std genrate a freq. table for the 'BMI'\n",
    "  4. count the no. of values b/w x1 and x2 / no. of rows\n",
    "      - criteria 1 : >= 0.683\n",
    "      - criteria 2 : >= 0.955\n",
    "      - criteria 3 : >= 0.997"
   ]
  },
  {
   "cell_type": "code",
   "execution_count": null,
   "metadata": {},
   "outputs": [],
   "source": [
    "import pandas as pd"
   ]
  },
  {
   "cell_type": "markdown",
   "metadata": {},
   "source": [
    "1. how many missing values are there for each variable in the dataset.\n",
    "    - None\n",
    "2. What is the sample size of the dataset.\n",
    "    - 200\n",
    "3. how many variables are there in the dataset ?\n",
    "    - 11\n",
    "4. how many variables has dtype int and float ?\n",
    "    - int : 11\n",
    "    - float: 0\n",
    "5. which variable has the smallest std ?\n",
    "    - schtyp\n",
    "6. which variable has the highest value of mean ?\n",
    "    - id\n",
    "7. What is qtile 1 for the read variable ?\n",
    "    - 44\n",
    "8. whar is qtile 2 for teh write variable ?\n",
    "    - 54\n",
    "9. what is qtile 3 for the science variable ?\n",
    "    - 58\n",
    "10. which variable has the lowest and the highest range ?\n",
    "    - id\n",
    "11. calc. the intercotile range (q3-q1) for the following : read, write, science, maths, Socst\n",
    "    - read : 32\n",
    "    - write : 15\n",
    "    - science : 32\n",
    "    - maths : 26\n",
    "    - socst : 35\n",
    "\n",
    "    \n"
   ]
  },
  {
   "cell_type": "code",
   "execution_count": null,
   "metadata": {},
   "outputs": [],
   "source": [
    "df = pd.read_csv('hsb2.csv')"
   ]
  },
  {
   "cell_type": "code",
   "execution_count": null,
   "metadata": {},
   "outputs": [
    {
     "data": {
      "text/html": [
       "<div>\n",
       "<style scoped>\n",
       "    .dataframe tbody tr th:only-of-type {\n",
       "        vertical-align: middle;\n",
       "    }\n",
       "\n",
       "    .dataframe tbody tr th {\n",
       "        vertical-align: top;\n",
       "    }\n",
       "\n",
       "    .dataframe thead th {\n",
       "        text-align: right;\n",
       "    }\n",
       "</style>\n",
       "<table border=\"1\" class=\"dataframe\">\n",
       "  <thead>\n",
       "    <tr style=\"text-align: right;\">\n",
       "      <th></th>\n",
       "      <th>id</th>\n",
       "      <th>Gender</th>\n",
       "      <th>race</th>\n",
       "      <th>ses</th>\n",
       "      <th>schtyp</th>\n",
       "      <th>prog</th>\n",
       "      <th>read</th>\n",
       "      <th>write</th>\n",
       "      <th>math</th>\n",
       "      <th>science</th>\n",
       "      <th>socst</th>\n",
       "    </tr>\n",
       "  </thead>\n",
       "  <tbody>\n",
       "    <tr>\n",
       "      <th>count</th>\n",
       "      <td>200.000000</td>\n",
       "      <td>200.00000</td>\n",
       "      <td>200.000000</td>\n",
       "      <td>200.000000</td>\n",
       "      <td>200.000000</td>\n",
       "      <td>200.000000</td>\n",
       "      <td>200.000000</td>\n",
       "      <td>200.000000</td>\n",
       "      <td>200.000000</td>\n",
       "      <td>200.000000</td>\n",
       "      <td>200.000000</td>\n",
       "    </tr>\n",
       "    <tr>\n",
       "      <th>mean</th>\n",
       "      <td>100.500000</td>\n",
       "      <td>0.54500</td>\n",
       "      <td>3.430000</td>\n",
       "      <td>2.055000</td>\n",
       "      <td>1.160000</td>\n",
       "      <td>2.025000</td>\n",
       "      <td>52.230000</td>\n",
       "      <td>52.775000</td>\n",
       "      <td>52.645000</td>\n",
       "      <td>51.850000</td>\n",
       "      <td>52.405000</td>\n",
       "    </tr>\n",
       "    <tr>\n",
       "      <th>std</th>\n",
       "      <td>57.879185</td>\n",
       "      <td>0.49922</td>\n",
       "      <td>1.039472</td>\n",
       "      <td>0.724291</td>\n",
       "      <td>0.367526</td>\n",
       "      <td>0.690477</td>\n",
       "      <td>10.252937</td>\n",
       "      <td>9.478586</td>\n",
       "      <td>9.368448</td>\n",
       "      <td>9.900891</td>\n",
       "      <td>10.735793</td>\n",
       "    </tr>\n",
       "    <tr>\n",
       "      <th>min</th>\n",
       "      <td>1.000000</td>\n",
       "      <td>0.00000</td>\n",
       "      <td>1.000000</td>\n",
       "      <td>1.000000</td>\n",
       "      <td>1.000000</td>\n",
       "      <td>1.000000</td>\n",
       "      <td>28.000000</td>\n",
       "      <td>31.000000</td>\n",
       "      <td>33.000000</td>\n",
       "      <td>26.000000</td>\n",
       "      <td>26.000000</td>\n",
       "    </tr>\n",
       "    <tr>\n",
       "      <th>25%</th>\n",
       "      <td>50.750000</td>\n",
       "      <td>0.00000</td>\n",
       "      <td>3.000000</td>\n",
       "      <td>2.000000</td>\n",
       "      <td>1.000000</td>\n",
       "      <td>2.000000</td>\n",
       "      <td>44.000000</td>\n",
       "      <td>45.750000</td>\n",
       "      <td>45.000000</td>\n",
       "      <td>44.000000</td>\n",
       "      <td>46.000000</td>\n",
       "    </tr>\n",
       "    <tr>\n",
       "      <th>50%</th>\n",
       "      <td>100.500000</td>\n",
       "      <td>1.00000</td>\n",
       "      <td>4.000000</td>\n",
       "      <td>2.000000</td>\n",
       "      <td>1.000000</td>\n",
       "      <td>2.000000</td>\n",
       "      <td>50.000000</td>\n",
       "      <td>54.000000</td>\n",
       "      <td>52.000000</td>\n",
       "      <td>53.000000</td>\n",
       "      <td>52.000000</td>\n",
       "    </tr>\n",
       "    <tr>\n",
       "      <th>75%</th>\n",
       "      <td>150.250000</td>\n",
       "      <td>1.00000</td>\n",
       "      <td>4.000000</td>\n",
       "      <td>3.000000</td>\n",
       "      <td>1.000000</td>\n",
       "      <td>2.250000</td>\n",
       "      <td>60.000000</td>\n",
       "      <td>60.000000</td>\n",
       "      <td>59.000000</td>\n",
       "      <td>58.000000</td>\n",
       "      <td>61.000000</td>\n",
       "    </tr>\n",
       "    <tr>\n",
       "      <th>max</th>\n",
       "      <td>200.000000</td>\n",
       "      <td>1.00000</td>\n",
       "      <td>4.000000</td>\n",
       "      <td>3.000000</td>\n",
       "      <td>2.000000</td>\n",
       "      <td>3.000000</td>\n",
       "      <td>76.000000</td>\n",
       "      <td>67.000000</td>\n",
       "      <td>75.000000</td>\n",
       "      <td>74.000000</td>\n",
       "      <td>71.000000</td>\n",
       "    </tr>\n",
       "  </tbody>\n",
       "</table>\n",
       "</div>"
      ],
      "text/plain": [
       "               id     Gender        race         ses      schtyp        prog  \\\n",
       "count  200.000000  200.00000  200.000000  200.000000  200.000000  200.000000   \n",
       "mean   100.500000    0.54500    3.430000    2.055000    1.160000    2.025000   \n",
       "std     57.879185    0.49922    1.039472    0.724291    0.367526    0.690477   \n",
       "min      1.000000    0.00000    1.000000    1.000000    1.000000    1.000000   \n",
       "25%     50.750000    0.00000    3.000000    2.000000    1.000000    2.000000   \n",
       "50%    100.500000    1.00000    4.000000    2.000000    1.000000    2.000000   \n",
       "75%    150.250000    1.00000    4.000000    3.000000    1.000000    2.250000   \n",
       "max    200.000000    1.00000    4.000000    3.000000    2.000000    3.000000   \n",
       "\n",
       "             read       write        math     science       socst  \n",
       "count  200.000000  200.000000  200.000000  200.000000  200.000000  \n",
       "mean    52.230000   52.775000   52.645000   51.850000   52.405000  \n",
       "std     10.252937    9.478586    9.368448    9.900891   10.735793  \n",
       "min     28.000000   31.000000   33.000000   26.000000   26.000000  \n",
       "25%     44.000000   45.750000   45.000000   44.000000   46.000000  \n",
       "50%     50.000000   54.000000   52.000000   53.000000   52.000000  \n",
       "75%     60.000000   60.000000   59.000000   58.000000   61.000000  \n",
       "max     76.000000   67.000000   75.000000   74.000000   71.000000  "
      ]
     },
     "metadata": {},
     "output_type": "display_data"
    }
   ],
   "source": [
    "df.describe()"
   ]
  },
  {
   "cell_type": "code",
   "execution_count": null,
   "metadata": {},
   "outputs": [
    {
     "name": "stdout",
     "output_type": "stream",
     "text": [
      "<class 'pandas.core.frame.DataFrame'>\n",
      "RangeIndex: 200 entries, 0 to 199\n",
      "Data columns (total 11 columns):\n",
      " #   Column   Non-Null Count  Dtype\n",
      "---  ------   --------------  -----\n",
      " 0   id       200 non-null    int64\n",
      " 1   Gender   200 non-null    int64\n",
      " 2   race     200 non-null    int64\n",
      " 3   ses      200 non-null    int64\n",
      " 4   schtyp   200 non-null    int64\n",
      " 5   prog     200 non-null    int64\n",
      " 6   read     200 non-null    int64\n",
      " 7   write    200 non-null    int64\n",
      " 8   math     200 non-null    int64\n",
      " 9   science  200 non-null    int64\n",
      " 10  socst    200 non-null    int64\n",
      "dtypes: int64(11)\n",
      "memory usage: 17.3 KB\n"
     ]
    }
   ],
   "source": [
    "df.info()"
   ]
  },
  {
   "cell_type": "code",
   "execution_count": null,
   "metadata": {},
   "outputs": [
    {
     "data": {
      "text/plain": [
       "47    27\n",
       "50    18\n",
       "63    16\n",
       "57    14\n",
       "52    14\n",
       "44    13\n",
       "42    13\n",
       "55    13\n",
       "68    11\n",
       "60     9\n",
       "65     9\n",
       "39     8\n",
       "34     6\n",
       "73     5\n",
       "36     3\n",
       "37     2\n",
       "41     2\n",
       "43     2\n",
       "71     2\n",
       "45     2\n",
       "76     2\n",
       "31     1\n",
       "48     1\n",
       "53     1\n",
       "35     1\n",
       "54     1\n",
       "61     1\n",
       "46     1\n",
       "28     1\n",
       "66     1\n",
       "Name: read, dtype: int64"
      ]
     },
     "metadata": {},
     "output_type": "display_data"
    }
   ],
   "source": [
    "df.read.value_counts()"
   ]
  },
  {
   "cell_type": "code",
   "execution_count": null,
   "metadata": {},
   "outputs": [
    {
     "name": "stdout",
     "output_type": "stream",
     "text": [
      "62.48293682648241 41.977063173517585 52.23 10.25293682648241\n",
      "130\n"
     ]
    }
   ],
   "source": [
    "#to check the area of the variable 'read' \n",
    "\n",
    "m = df.read.mean()\n",
    "sd = df.read.std()\n",
    "x1 = m + sd \n",
    "x2 = m - sd \n",
    "print(x1, x2, m, sd)\n",
    "count = 0\n",
    "count_all = df['read'].value_counts()\n",
    "count = count_all[(count_all.index > x2) & (count_all.index < x1)].sum()\n",
    "print(count)\n"
   ]
  },
  {
   "cell_type": "code",
   "execution_count": null,
   "metadata": {},
   "outputs": [
    {
     "name": "stdout",
     "output_type": "stream",
     "text": [
      "62.253586021386525 43.29641397861347 52.775 9.47858602138653\n",
      "136\n",
      "area 0.68\n"
     ]
    }
   ],
   "source": [
    "#to check the area of the variable 'write'\n",
    "\n",
    "m = df.write.mean()\n",
    "sd = df.write.std()\n",
    "x1 = m + sd \n",
    "x2 = m - sd \n",
    "print(x1, x2, m, sd)\n",
    "count = 0\n",
    "count_all = df['write'].value_counts()\n",
    "count = count_all[(count_all.index > x2) & (count_all.index < x1)].sum()\n",
    "print(count)\n",
    "df.ndim\n",
    "print('area', count/len(df))"
   ]
  },
  {
   "cell_type": "code",
   "execution_count": null,
   "metadata": {},
   "outputs": [
    {
     "name": "stdout",
     "output_type": "stream",
     "text": [
      "61.75089077765 41.94910922235 51.85 9.900890777649998\n",
      "136\n",
      "area 0.68\n"
     ]
    }
   ],
   "source": [
    "#to check the area of the variable 'science'\n",
    "\n",
    "m = df.science.mean()\n",
    "sd = df.science.std()\n",
    "x1 = m + sd \n",
    "x2 = m - sd \n",
    "print(x1, x2, m, sd)\n",
    "count = 0\n",
    "count_all = df['science'].value_counts()\n",
    "count = count_all[(count_all.index > x2) & (count_all.index < x1)].sum()\n",
    "print(count)\n",
    "df.ndim\n",
    "print('area', count/len(df))"
   ]
  },
  {
   "cell_type": "code",
   "execution_count": null,
   "metadata": {},
   "outputs": [
    {
     "name": "stdout",
     "output_type": "stream",
     "text": [
      "62.0134477940773 43.276552205922705 52.645 9.368447794077296\n",
      "125\n",
      "area 0.625\n"
     ]
    }
   ],
   "source": [
    "#to check the area of the variable 'math'\n",
    "\n",
    "m = df.math.mean()\n",
    "sd = df.math.std()\n",
    "x1 = m + sd \n",
    "x2 = m - sd \n",
    "print(x1, x2, m, sd)\n",
    "count = 0\n",
    "count_all = df['math'].value_counts()\n",
    "count = count_all[(count_all.index > x2) & (count_all.index < x1)].sum()\n",
    "print(count)\n",
    "df.ndim\n",
    "print('area', count/len(df))"
   ]
  },
  {
   "cell_type": "code",
   "execution_count": null,
   "metadata": {},
   "outputs": [],
   "source": [
    "check the normality for  associativity"
   ]
  },
  {
   "cell_type": "code",
   "execution_count": null,
   "metadata": {},
   "outputs": [
    {
     "name": "stdout",
     "output_type": "stream",
     "text": [
      "63.1407934642267 41.669206535773306 52.405 10.735793464226697\n",
      "126\n",
      "area 0.63\n"
     ]
    }
   ],
   "source": [
    "#to check the area of the variable 'socst'\n",
    "\n",
    "m = df.socst.mean()\n",
    "sd = df.socst.std()\n",
    "x1 = m + sd \n",
    "x2 = m - sd \n",
    "print(x1, x2, m, sd)\n",
    "count = 0\n",
    "count_all = df['socst'].value_counts()\n",
    "count = count_all[(count_all.index > x2) & (count_all.index < x1)].sum()\n",
    "print(count)\n",
    "df.ndim\n",
    "print('area', count/len(df))"
   ]
  },
  {
   "cell_type": "code",
   "execution_count": null,
   "metadata": {},
   "outputs": [
    {
     "data": {
      "text/plain": [
       "47    27\n",
       "50    18\n",
       "63    16\n",
       "57    14\n",
       "52    14\n",
       "44    13\n",
       "42    13\n",
       "55    13\n",
       "68    11\n",
       "60     9\n",
       "65     9\n",
       "39     8\n",
       "34     6\n",
       "73     5\n",
       "36     3\n",
       "37     2\n",
       "41     2\n",
       "43     2\n",
       "71     2\n",
       "45     2\n",
       "76     2\n",
       "31     1\n",
       "48     1\n",
       "53     1\n",
       "35     1\n",
       "54     1\n",
       "61     1\n",
       "46     1\n",
       "28     1\n",
       "66     1\n",
       "Name: read, dtype: int64"
      ]
     },
     "metadata": {},
     "output_type": "display_data"
    }
   ],
   "source": [
    "df['read'].value_counts()"
   ]
  }
 ],
 "metadata": {
  "language_info": {
   "name": "python"
  },
  "orig_nbformat": 4
 },
 "nbformat": 4,
 "nbformat_minor": 2
}
