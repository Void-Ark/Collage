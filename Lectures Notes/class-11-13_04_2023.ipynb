{
 "cells": [
  {
   "attachments": {},
   "cell_type": "markdown",
   "metadata": {},
   "source": [
    "- SLR stands for simple linear regression where we are trying to predict a dependent variale based on one independent var. \n",
    "- if the no. of independent variables are more than one then it is known as **MLR(Multi. linear regression)**\n",
    "- so, the basic difference b/w 2 technique is the number of independent variables \n",
    "- if independent_variable = 1 : \n",
    "    - then SLR \n",
    "- else : \n",
    "    - it is MLR"
   ]
  },
  {
   "attachments": {},
   "cell_type": "markdown",
   "metadata": {},
   "source": [
    "- the dependent var. is revenue \n",
    "- independent : perc. aucupacy \n",
    "- statement : to create a simple linear regression model to predict the revenue based on perc. ocupacy \n",
    "- dv = revenue in $ in 1000 \n",
    "- iv = perc. ocupacy \n",
    "- the model equation is : \n",
    "    - y = Bo + b1 * x1\n",
    "- in the above eq. for any value of x1 y can be predicted if the model can give me the value of b0 and b1 \n",
    "- these are known as **unstandaerdise regression co-officient** and ... are once the model made in python"
   ]
  },
  {
   "attachments": {},
   "cell_type": "markdown",
   "metadata": {},
   "source": [
    "## Linear Regression"
   ]
  },
  {
   "attachments": {},
   "cell_type": "markdown",
   "metadata": {},
   "source": [
    "---\n",
    "**For Simple Linear Regression,, there is one independent vairable which is used to predict the dependent variable**\n",
    "- prediction algorithm\n",
    "- Two Variables : \n",
    "    1. independent variable (X)\n",
    "        - it is the one which you are using to predict the dependent var. \n",
    "    2. dependent var. (Y)\n",
    "        - which you want to predict \n",
    "    3. B0 (beta noot) : constant \n",
    "    4. B1 (beta one) : constant\n",
    "- **FORMULA : Yi = B0 + B1 * Xi**\n",
    "- steps :\n",
    "    1. create 2 df. \n",
    "        - Y = dependent var. df.\n",
    "        - X = independent var. df.\n",
    "    2. to the x df. we need to add a constant \n",
    "        - X = statsmodel.api.add_constant(X)\n",
    "    3. to create the regression modle \n",
    "        - model = statsmodel.formula.api.ols(Y, X).fit()\n",
    "    4. to see the summery of the model \n",
    "        - model.summery()\n",
    "    5. from model summery : \n",
    "        - B0 = (const, coff) \n",
    "        - B1 = (X, coff)"
   ]
  },
  {
   "attachments": {},
   "cell_type": "markdown",
   "metadata": {},
   "source": [
    "---\n",
    "### how to find the accuracy of the model\n",
    "1. pred_Y = predicted Y \n",
    "2. error = | Y - pred_Y |\n",
    "3. rel_error = error - Y\n",
    "4. rel_error_mean = rel_error.mean()\n",
    "5. error_prec = rel_error_mean*100 "
   ]
  },
  {
   "attachments": {},
   "cell_type": "markdown",
   "metadata": {},
   "source": [
    "---\n",
    "### PREDICT the read skill of the student based on the write skill and then find the accuracy of the model."
   ]
  },
  {
   "cell_type": "code",
   "execution_count": 17,
   "metadata": {},
   "outputs": [
    {
     "name": "stdout",
     "output_type": "stream",
     "text": [
      "13.530483976983989\n"
     ]
    }
   ],
   "source": [
    "import pandas as pd\n",
    "import scipy.stats as sc \n",
    "import statsmodels.api as sm \n",
    "# import statsmodels.formula.api as smf\n",
    "\n",
    "hsb2 = pd.read_csv(\"./hsb2.csv\") \n",
    "\n",
    "Y = hsb2['read'] \n",
    "X = hsb2['write'] \n",
    "X = sm.add_constant(X)\n",
    "\n",
    "model = sm.OLS(Y, X).fit() \n",
    "#print(model.summary()) \n",
    "\n",
    "b0 = 18.1622 \n",
    "b1 = 0.6455 \n",
    "X = hsb2['write'] \n",
    "\n",
    "pred_Y = b1 * X + b0\n",
    "\n",
    "errror = (Y - pred_Y).abs()\n",
    "\n",
    "rel_error = errror / Y \n",
    " \n",
    "print(rel_error.mean()*100)"
   ]
  },
  {
   "attachments": {},
   "cell_type": "markdown",
   "metadata": {},
   "source": [
    "---\n",
    "### PREDICT the math skill of the student based on the science and the accuracy of the model."
   ]
  },
  {
   "cell_type": "code",
   "execution_count": 20,
   "metadata": {},
   "outputs": [
    {
     "name": "stdout",
     "output_type": "stream",
     "text": [
      "11.304473939653594\n"
     ]
    }
   ],
   "source": [
    "# to predict the math skill of the student based on the science \n",
    "# and the accuracy of the model.\n",
    "\n",
    "import pandas as pd\n",
    "import scipy.stats as sc \n",
    "import statsmodels.api as sm \n",
    "# import statsmodels.formula.api as smf\n",
    "\n",
    "hsb2 = pd.read_csv(\"./hsb2.csv\") \n",
    "\n",
    "Y = hsb2['math'] \n",
    "X = hsb2['science'] \n",
    "X = sm.add_constant(X)\n",
    "\n",
    "model = sm.OLS(Y, X).fit() \n",
    "#print(model.summary()) \n",
    "\n",
    "b0 = 21.7002\n",
    "b1 = 0.5968 \n",
    "X = hsb2['science'] \n",
    "\n",
    "pred_Y = b1 * X + b0\n",
    "errror = (Y - pred_Y).abs()\n",
    "rel_error = errror / Y \n",
    "error_perc = rel_error.mean()*100\n",
    "print(error_perc)\n"
   ]
  },
  {
   "attachments": {},
   "cell_type": "markdown",
   "metadata": {},
   "source": [
    "---\n",
    "### to predict the write skill of the student based on the science skill"
   ]
  },
  {
   "cell_type": "code",
   "execution_count": 22,
   "metadata": {},
   "outputs": [
    {
     "name": "stdout",
     "output_type": "stream",
     "text": [
      "12.742789050810387\n"
     ]
    }
   ],
   "source": [
    "\n",
    "import pandas as pd\n",
    "import scipy.stats as sc \n",
    "import statsmodels.api as sm \n",
    "# import statsmodels.formula.api as smf\n",
    "\n",
    "hsb2 = pd.read_csv(\"./hsb2.csv\") \n",
    "\n",
    "Y = hsb2['write'] \n",
    "X = hsb2['science'] \n",
    "X = sm.add_constant(X)\n",
    "\n",
    "model = sm.OLS(Y, X).fit() \n",
    "#print(model.summary()) \n",
    "\n",
    "b0 = 24.4592 \n",
    "b1 = 0.5461 \n",
    "X = hsb2['science'] \n",
    "\n",
    "pred_Y = b1 * X + b0\n",
    "errror = (Y - pred_Y).abs()\n",
    "rel_error = errror / Y \n",
    "error_perc = rel_error.mean()*100\n",
    "print(error_perc)"
   ]
  }
 ],
 "metadata": {
  "kernelspec": {
   "display_name": "Python 3",
   "language": "python",
   "name": "python3"
  },
  "language_info": {
   "codemirror_mode": {
    "name": "ipython",
    "version": 3
   },
   "file_extension": ".py",
   "mimetype": "text/x-python",
   "name": "python",
   "nbconvert_exporter": "python",
   "pygments_lexer": "ipython3",
   "version": "3.10.10"
  },
  "orig_nbformat": 4
 },
 "nbformat": 4,
 "nbformat_minor": 2
}
