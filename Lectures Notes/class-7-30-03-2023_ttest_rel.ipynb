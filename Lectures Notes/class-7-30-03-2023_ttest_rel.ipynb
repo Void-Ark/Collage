{
 "cells": [
  {
   "cell_type": "code",
   "execution_count": 1,
   "metadata": {},
   "outputs": [],
   "source": [
    "import pandas as pd\n",
    "from scipy import stats "
   ]
  },
  {
   "cell_type": "code",
   "execution_count": 2,
   "metadata": {},
   "outputs": [
    {
     "name": "stdout",
     "output_type": "stream",
     "text": [
      "<class 'pandas.core.frame.DataFrame'>\n",
      "RangeIndex: 20 entries, 0 to 19\n",
      "Data columns (total 2 columns):\n",
      " #   Column  Non-Null Count  Dtype  \n",
      "---  ------  --------------  -----  \n",
      " 0   WingA   20 non-null     float64\n",
      " 1   WingB   20 non-null     float64\n",
      "dtypes: float64(2)\n",
      "memory usage: 448.0 bytes\n"
     ]
    }
   ],
   "source": [
    "df = pd.read_csv('./students.csv')\n",
    "df.info()"
   ]
  },
  {
   "attachments": {},
   "cell_type": "markdown",
   "metadata": {},
   "source": [
    "- How to create a df in py. \n",
    "- if a ext. file is not provided then we need to create a df. directly in py.\n",
    "\n",
    "for the var. wingA from 'students.csv'\n",
    "using this object data we are trying to create a df. df\n",
    "df = pd.DataFrame(data, columns= ['wingA'])"
   ]
  },
  {
   "cell_type": "code",
   "execution_count": 3,
   "metadata": {},
   "outputs": [],
   "source": [
    "# create a df. df with a single variable wingA\n",
    "wingA = pd.DataFrame(df['WingA'], columns=['WingA']) "
   ]
  },
  {
   "cell_type": "code",
   "execution_count": 4,
   "metadata": {},
   "outputs": [
    {
     "data": {
      "text/plain": [
       "WingA    10.3975\n",
       "dtype: float64"
      ]
     },
     "execution_count": 4,
     "metadata": {},
     "output_type": "execute_result"
    }
   ],
   "source": [
    "# calculate the mean of wingA and crosscheck with the mean of the imported file\n",
    "wingA.mean()"
   ]
  },
  {
   "cell_type": "code",
   "execution_count": 5,
   "metadata": {},
   "outputs": [
    {
     "data": {
      "text/plain": [
       "WingA    10.3975\n",
       "WingB     8.1225\n",
       "dtype: float64"
      ]
     },
     "execution_count": 5,
     "metadata": {},
     "output_type": "execute_result"
    }
   ],
   "source": [
    "# now create a df. with two variables with wingA and wingB. Calc. the mean of the two var.s and crosscheck with yesterdays mean.\n",
    "dual_wing = pd.DataFrame(df, columns=['WingA', 'WingB'])\n",
    "dual_wing.mean()"
   ]
  },
  {
   "attachments": {},
   "cell_type": "markdown",
   "metadata": {},
   "source": [
    "## Pair Sample ttest"
   ]
  },
  {
   "attachments": {},
   "cell_type": "markdown",
   "metadata": {},
   "source": [
    "- for doing the pair sample ttest :\n",
    "    - the student should remain same for both the variables \n",
    "    - the function should be used id scipy.stats.ttest_rel\n",
    "    - the degree of freedom = n-1 \n",
    "- When this test :\n",
    "    - assumption for doing the pair sample ttest\n",
    "- create a new var. : which is the diff. of var1 and var2 and then check for normality \n",
    "- if this var. has the normal distribution then use paired sample ttest otherwise use non-parametric wilcoxin_test"
   ]
  },
  {
   "attachments": {},
   "cell_type": "markdown",
   "metadata": {},
   "source": [
    "---\n",
    "- create a df. from the data\n",
    "- create a new var. which is the diff. of the 2 var. \n",
    "- check the normality for this new variable \n",
    "- conduct the pair sample ttest and write the interpretetion using the static table \n",
    "- from the complete dataset use first 20 rows"
   ]
  },
  {
   "cell_type": "code",
   "execution_count": 8,
   "metadata": {},
   "outputs": [
    {
     "name": "stdout",
     "output_type": "stream",
     "text": [
      "20\n",
      "14\n",
      "0.7\n",
      "1.0\n",
      "1.0\n",
      "Ttest_relResult(statistic=-10.572884939003538, pvalue=2.129686271744411e-09)\n",
      "Ttest_indResult(statistic=-5.883436354378723, pvalue=8.227200418527702e-07)\n"
     ]
    }
   ],
   "source": [
    "concrete = pd.read_csv('./concrete.csv')\n",
    "sample = concrete[['TwoDays', 'SevenDays']][:20]\n",
    "diff = sample['SevenDays'] - sample['TwoDays']\n",
    "print(diff.size)\n",
    "\n",
    "# for normality \n",
    "diff_mean = diff.mean() \n",
    "diff_std = diff.std() \n",
    "    # for criteria 1\n",
    "diff_x1 = diff_mean + diff_std \n",
    "diff_x2 = diff_mean - diff_std \n",
    "print(diff[(diff < diff_x1) & (diff > diff_x2)].size)\n",
    "print(diff[(diff < diff_x1) & (diff > diff_x2)].size/diff.size)\n",
    "    # for criteria 2\n",
    "diff_x1 = diff_mean + diff_std*2 \n",
    "diff_x2 = diff_mean - diff_std*2 \n",
    "print(diff[(diff < diff_x1) & (diff > diff_x2)].size/diff.size)\n",
    "    # for criteria 3\n",
    "diff_x1 = diff_mean + diff_std*3 \n",
    "diff_x2 = diff_mean - diff_std*3 \n",
    "print(diff[(diff < diff_x1) & (diff > diff_x2)].size/diff.size)\n",
    "\n",
    "print(stats.ttest_rel(sample['TwoDays'], sample['SevenDays']))\n",
    "print(stats.ttest_ind(sample['TwoDays'], sample['SevenDays']))\n"
   ]
  }
 ],
 "metadata": {
  "kernelspec": {
   "display_name": "Python 3",
   "language": "python",
   "name": "python3"
  },
  "language_info": {
   "codemirror_mode": {
    "name": "ipython",
    "version": 3
   },
   "file_extension": ".py",
   "mimetype": "text/x-python",
   "name": "python",
   "nbconvert_exporter": "python",
   "pygments_lexer": "ipython3",
   "version": "3.10.10"
  },
  "orig_nbformat": 4
 },
 "nbformat": 4,
 "nbformat_minor": 2
}
