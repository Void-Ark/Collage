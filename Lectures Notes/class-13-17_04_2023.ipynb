{
 "cells": [
  {
   "cell_type": "code",
   "execution_count": 3,
   "metadata": {},
   "outputs": [],
   "source": [
    "\n",
    "import matplotlib.pyplot as plt\n",
    "import pandas as pd\n",
    "\n",
    "from scipy.stats import ttest_ind"
   ]
  },
  {
   "attachments": {},
   "cell_type": "markdown",
   "metadata": {},
   "source": [
    "---\n",
    "### Testing of the hypothesis to figure out which var. is significantly effecting the dependent variable"
   ]
  },
  {
   "attachments": {},
   "cell_type": "markdown",
   "metadata": {},
   "source": [
    "1. there is a dataset (wingA, wingB) \n",
    "- Objective : to see is there any significant diff. b/w of the 2 sections \n",
    "- from the objective we create the hypo. \n",
    "    - ho (Null Hypothesis) == there is no significant diff. b/w two sections\n",
    "    - ha (Alternate Hypo.) == there is signifiacant diff. b/w two sections\n",
    "- **Independent sample t-test** \n",
    "    - t_stats, p_val = scipy.stats.ttest_ind(df1, df2)\n",
    "    - t_stats\n",
    "- **Degree of freedom = n-2 (n==sample_size)**\n",
    "- if t_stats < val_stat_table : \n",
    "    - ho is accepted\n",
    "- else : \n",
    "    - ha is accepted"
   ]
  },
  {
   "cell_type": "code",
   "execution_count": 10,
   "metadata": {},
   "outputs": [
    {
     "name": "stdout",
     "output_type": "stream",
     "text": [
      "alternate Hypo.\n"
     ]
    }
   ],
   "source": [
    "\n",
    "luggage = pd.read_csv(\"./Luggage.csv\")\n",
    "t_stats, p_val = ttest_ind(luggage['WingA'], luggage['WingB'])\n",
    "print(\"null Hypo\" if t_stats < 2.11 else \"alternate Hypo.\")"
   ]
  },
  {
   "cell_type": "code",
   "execution_count": 16,
   "metadata": {},
   "outputs": [
    {
     "name": "stdout",
     "output_type": "stream",
     "text": [
      "null Hypo\n"
     ]
    }
   ],
   "source": [
    "df = pd.read_csv(\"./hsb2.csv\")\n",
    "t_stats, p_val = ttest_ind( df['read'][df['Gender'] == 0], df['read'][df['Gender'] == 1])\n",
    "print( \"null Hypo\" if t_stats < 1.972 else \"alternate Hypo.\" )"
   ]
  },
  {
   "attachments": {},
   "cell_type": "markdown",
   "metadata": {},
   "source": [
    "---\n",
    "to see is there any significance diff. b/w cs and ec (total marks)."
   ]
  },
  {
   "cell_type": "code",
   "execution_count": 17,
   "metadata": {},
   "outputs": [
    {
     "name": "stdout",
     "output_type": "stream",
     "text": [
      "null Hypo\n"
     ]
    }
   ],
   "source": [
    "df = pd.read_csv(\"./hsb2.csv\")\n",
    "df['total'] = df['read'] + df['write'] + df['math'] + df['science'] + df['socst']\n",
    "t_stats, p_val = ttest_ind( df['total'][df['schtyp'] == 1], df['total'][df['schtyp'] == 2])\n",
    "print( \"null Hypo\" if t_stats < 1.972 else \"alternate Hypo.\" )"
   ]
  },
  {
   "attachments": {},
   "cell_type": "markdown",
   "metadata": {},
   "source": [
    "---\n",
    "to see is there any significance diff. in the total marks b/w students of low and high ses"
   ]
  }
 ],
 "metadata": {
  "kernelspec": {
   "display_name": "Python 3",
   "language": "python",
   "name": "python3"
  },
  "language_info": {
   "codemirror_mode": {
    "name": "ipython",
    "version": 3
   },
   "file_extension": ".py",
   "mimetype": "text/x-python",
   "name": "python",
   "nbconvert_exporter": "python",
   "pygments_lexer": "ipython3",
   "version": "3.10.10"
  },
  "orig_nbformat": 4
 },
 "nbformat": 4,
 "nbformat_minor": 2
}
