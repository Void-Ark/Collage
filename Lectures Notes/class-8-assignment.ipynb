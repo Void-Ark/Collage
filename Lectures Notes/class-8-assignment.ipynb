{
 "cells": [
  {
   "attachments": {},
   "cell_type": "markdown",
   "metadata": {},
   "source": [
    "1. objective\n",
    "1. null hypo.\n",
    "1. alternate hypo. \n",
    "1. code : which test \n",
    "1. code : statical parameter obtain \n",
    "1. code : interpretation of the test "
   ]
  },
  {
   "attachments": {},
   "cell_type": "markdown",
   "metadata": {},
   "source": [
    "---\n",
    "### 1.To check whether the performance in the science sub. has met the benchmark value of 60 "
   ]
  },
  {
   "attachments": {},
   "cell_type": "markdown",
   "metadata": {},
   "source": [
    "- **objective** : is to see whether the performance of the student has meet the benchmark value \n",
    "    - null hypo. (ho) : there is no significance diff. in the mean of read marks aginst the benchmark value of 60 \n",
    "        - if ho is accepted that the perforfmance of the student has meet my expection \n",
    "    - alternate hypo. (ha) : there is signoficance diff. in the mean of read marks against the benchmark of 60 \n",
    "- make the interpretation of the p_value from the 1_sample_ttest"
   ]
  },
  {
   "cell_type": "code",
   "execution_count": 3,
   "metadata": {},
   "outputs": [
    {
     "name": "stdout",
     "output_type": "stream",
     "text": [
      "3.171144080035124e-24\n",
      "NULL HYPOTHESIS ACCEPTED\n"
     ]
    }
   ],
   "source": [
    "from scipy.stats import ttest_1samp\n",
    "import pandas as pd\n",
    "\n",
    "df = pd.read_csv(\"./hsb2.csv\")\n",
    "\n",
    "_, p_value = ttest_1samp(df['science'], 60)\n",
    "print(p_value)\n",
    "\n",
    "if p_value < .05 : \n",
    "    print('NULL HYPOTHESIS ACCEPTED')\n",
    "else : \n",
    "    print(\"ALTERNATE HYPOTHESIS ACCEPTED\")"
   ]
  },
  {
   "attachments": {},
   "cell_type": "markdown",
   "metadata": {},
   "source": [
    "NULL HYPO. means it has meet the benchmark of 60."
   ]
  },
  {
   "attachments": {},
   "cell_type": "markdown",
   "metadata": {},
   "source": [
    "---\n",
    "### 2. to see is there a significance diff. in the math subject b/w 0, 1 (Gender)"
   ]
  },
  {
   "attachments": {},
   "cell_type": "markdown",
   "metadata": {},
   "source": [
    "- Calculate the **T-test for the means of two independent samples of scores**.\n",
    "\n",
    "- This is a test for the null hypothesis that 2 independent samples have identical average (expected) values. This test assumes that the populations have identical variances by default.\n",
    "\n",
    "- The null hypothesis (H0) and alternative hypothesis (H1) of the Independent Samples t Test can be expressed in two different but equivalent ways:\n",
    "\n",
    "- H0: µ1 = µ2 (\"the two population means are equal\")\n",
    "- H1: µ1 ≠ µ2 (\"the two population means are not equal\")\n",
    "\n",
    "\n",
    "- where µ1 and µ2 are the population means for group 1 and group 2, respectively. Notice that the second set of hypotheses can be derived from the first set by simply subtracting µ2 from both sides of the equation."
   ]
  },
  {
   "cell_type": "code",
   "execution_count": 30,
   "metadata": {},
   "outputs": [
    {
     "name": "stdout",
     "output_type": "stream",
     "text": [
      "-0.41299864929688507\n",
      "Critical value of t (using statistical table): 1.976\n",
      "NULL Hypo.\n"
     ]
    }
   ],
   "source": [
    "from scipy.stats import ttest_ind\n",
    "import pandas as pd \n",
    "\n",
    "df = pd.read_csv('./hsb2.csv')\n",
    "\n",
    "t_stats, _ = ttest_ind(df[df['Gender'] == 1]['math'], df[df['Gender']==0]['math'])\n",
    "print(t_stats)\n",
    "\n",
    "print(\"Critical value of t (using statistical table):\", 1.976)\n",
    "\n",
    "if t_stats < 1.976 : \n",
    "    print(\"NULL Hypo.\") \n",
    "else : \n",
    "    print(\"ALTERNATIVE Hypo.\")\n",
    "\n"
   ]
  },
  {
   "attachments": {},
   "cell_type": "markdown",
   "metadata": {},
   "source": [
    "There is no difference between these two."
   ]
  },
  {
   "attachments": {},
   "cell_type": "markdown",
   "metadata": {},
   "source": [
    "---\n",
    "### 3. is there significance diff. b/w science and social science\n"
   ]
  },
  {
   "attachments": {},
   "cell_type": "markdown",
   "metadata": {},
   "source": [
    "**t-test on TWO RELATED samples of scores, pre-test and post-test.**\n",
    "\n",
    "- This is a test for the null hypothesis that two related or repeated samples have identical average (expected) values\n",
    "- Hypothesis : \n",
    "    - H0: It signifies that the mean pre-test and post-test scores are equal\n",
    "    - HA: It signifies that the mean pre-test and post-test scores are not equal"
   ]
  },
  {
   "cell_type": "code",
   "execution_count": 20,
   "metadata": {},
   "outputs": [
    {
     "name": "stdout",
     "output_type": "stream",
     "text": [
      "Sample Size: 200\n",
      "0.705\n",
      "0.935\n",
      "0.99\n",
      "Sample is Normal\n",
      "Test Statistics: -0.7338002375049547\n",
      "p_value: 0.4639341426202652\n",
      "NULL HYPOTHESIS\n"
     ]
    }
   ],
   "source": [
    "from scipy.stats import ttest_rel\n",
    "import pandas as pd\n",
    "\n",
    "df = pd.read_csv('./hsb2.csv')\n",
    "\n",
    "diff = df['science'] - df['socst']\n",
    "print(\"Sample Size:\", diff.size)\n",
    "\n",
    "# for normality \n",
    "diff_mean = diff.mean() \n",
    "diff_std = diff.std() \n",
    "    # for criteria 1\n",
    "diff_x1 = diff_mean + diff_std \n",
    "diff_x2 = diff_mean - diff_std \n",
    "print(diff[(diff < diff_x1) & (diff > diff_x2)].size/diff.size)\n",
    "    # for criteria 2\n",
    "diff_x1 = diff_mean + diff_std*2 \n",
    "diff_x2 = diff_mean - diff_std*2 \n",
    "print(diff[(diff < diff_x1) & (diff > diff_x2)].size/diff.size)\n",
    "    # for criteria 3\n",
    "diff_x1 = diff_mean + diff_std*3 \n",
    "diff_x2 = diff_mean - diff_std*3 \n",
    "print(diff[(diff < diff_x1) & (diff > diff_x2)].size/diff.size)\n",
    "print(\"Sample is Normal\")\n",
    "\n",
    "t_stats, p_value = ttest_rel(df['science'], df['socst'])\n",
    "print(\"Test Statistics:\", t_stats)\n",
    "print('p_value:', p_value)\n",
    "\n",
    "if p_value < 0.05 : \n",
    "    print(\"ALTERNATE HYPOTHESIS\") \n",
    "else :\n",
    "    print(\"NULL HYPOTHESIS\")"
   ]
  },
  {
   "attachments": {},
   "cell_type": "markdown",
   "metadata": {},
   "source": [
    "OUTPUT : NULL Hypo. : it means both are aprox. equal. There is **NO Significance diff.**"
   ]
  },
  {
   "attachments": {},
   "cell_type": "markdown",
   "metadata": {},
   "source": [
    "---\n",
    "### 4. to see is there a significance diff. in science subject b/w stu. of school types (1, 2)\n"
   ]
  },
  {
   "attachments": {},
   "cell_type": "markdown",
   "metadata": {},
   "source": [
    "- Calculate the **T-test for the means of two independent samples of scores**.\n",
    "\n",
    "- This is a test for the null hypothesis that 2 independent samples have identical average (expected) values. This test assumes that the populations have identical variances by default.\n",
    "\n",
    "- The null hypothesis (H0) and alternative hypothesis (H1) of the Independent Samples t Test can be expressed in two different but equivalent ways:\n",
    "\n",
    "- H0: µ1 = µ2 (\"the two population means are equal\")\n",
    "- H1: µ1 ≠ µ2 (\"the two population means are not equal\")\n",
    "\n",
    "\n",
    "- where µ1 and µ2 are the population means for group 1 and group 2, respectively. Notice that the second set of hypotheses can be derived from the first set by simply subtracting µ2 from both sides of the equation."
   ]
  },
  {
   "cell_type": "code",
   "execution_count": 29,
   "metadata": {},
   "outputs": [
    {
     "name": "stdout",
     "output_type": "stream",
     "text": [
      "-0.9113221460646189\n",
      "Critical value of t (using statistical table): 1.976\n",
      "NULL Hypo.\n"
     ]
    }
   ],
   "source": [
    "import pandas as pd \n",
    "from scipy.stats import ttest_ind \n",
    "\n",
    "df = pd.read_csv('./hsb2.csv') \n",
    "\n",
    "df_sch1_science = df[df['schtyp']==1]['science']\n",
    "df_sch2_science = df[df['schtyp']==2]['science']\n",
    "\n",
    "t_stats, _ = ttest_ind(df_sch1_science, df_sch2_science)\n",
    "print(t_stats)\n",
    "\n",
    "print(\"Critical value of t (using statistical table):\", 1.976)\n",
    "\n",
    "if t_stats < 1.976 : \n",
    "    print(\"NULL Hypo.\") \n",
    "else : \n",
    "    print(\"ALTERNATIVE Hypo.\")"
   ]
  },
  {
   "attachments": {},
   "cell_type": "markdown",
   "metadata": {},
   "source": [
    "There is no difference between these two."
   ]
  },
  {
   "attachments": {},
   "cell_type": "markdown",
   "metadata": {},
   "source": [
    "--- \n",
    "### 5. to see is there significance diff. b/w science and social science and data is coming from diff. student "
   ]
  },
  {
   "attachments": {},
   "cell_type": "markdown",
   "metadata": {},
   "source": [
    "- Calculate the **T-test for the means of two independent samples of scores**.\n",
    "\n",
    "- This is a test for the null hypothesis that 2 independent samples have identical average (expected) values. This test assumes that the populations have identical variances by default.\n",
    "\n",
    "- The null hypothesis (H0) and alternative hypothesis (H1) of the Independent Samples t Test can be expressed in two different but equivalent ways:\n",
    "\n",
    "- H0: µ1 = µ2 (\"the two population means are equal\")\n",
    "- H1: µ1 ≠ µ2 (\"the two population means are not equal\")\n",
    "\n",
    "\n",
    "- where µ1 and µ2 are the population means for group 1 and group 2, respectively. Notice that the second set of hypotheses can be derived from the first set by simply subtracting µ2 from both sides of the equation."
   ]
  },
  {
   "cell_type": "code",
   "execution_count": 31,
   "metadata": {},
   "outputs": [
    {
     "name": "stdout",
     "output_type": "stream",
     "text": [
      "-0.537437450930514\n",
      "Critical value of t (using statistical table): 1.976\n",
      "NULL Hypo.\n"
     ]
    }
   ],
   "source": [
    "from scipy.stats import ttest_ind\n",
    "import pandas as pd \n",
    "\n",
    "df = pd.read_csv('./hsb2.csv')\n",
    "\n",
    "t_stats, _ = ttest_ind(df['science'], df['socst'])\n",
    "print(t_stats)\n",
    "\n",
    "print(\"Critical value of t (using statistical table):\", 1.976)\n",
    "\n",
    "if t_stats < 1.976 : \n",
    "    print(\"NULL Hypo.\") \n",
    "else : \n",
    "    print(\"ALTERNATIVE Hypo.\")"
   ]
  },
  {
   "attachments": {},
   "cell_type": "markdown",
   "metadata": {},
   "source": [
    "There is no difference between these two."
   ]
  }
 ],
 "metadata": {
  "kernelspec": {
   "display_name": "base",
   "language": "python",
   "name": "python3"
  },
  "language_info": {
   "codemirror_mode": {
    "name": "ipython",
    "version": 3
   },
   "file_extension": ".py",
   "mimetype": "text/x-python",
   "name": "python",
   "nbconvert_exporter": "python",
   "pygments_lexer": "ipython3",
   "version": "3.10.10"
  },
  "orig_nbformat": 4
 },
 "nbformat": 4,
 "nbformat_minor": 2
}
