{
 "cells": [
  {
   "attachments": {},
   "cell_type": "markdown",
   "metadata": {},
   "source": [
    "**Multiple Linear Regression** : The Number of Independent variable is more than one   \n",
    "Create an MLR Model to predict read(dependent) based on two independent variables write and science and then calculate the accuracy of the model."
   ]
  },
  {
   "attachments": {},
   "cell_type": "markdown",
   "metadata": {},
   "source": [
    "In this case the model equation is \n",
    "beta_read = beta_0 + beta_1 * write + beta_2 * read \n",
    "\n",
    "The coding for the X dataframe now is  \n",
    "X = df[['write','science']]\n"
   ]
  },
  {
   "cell_type": "code",
   "execution_count": 4,
   "metadata": {},
   "outputs": [],
   "source": [
    "import pandas as pd \n",
    "import numpy as np \n",
    "import scipy.stats as sc \n",
    "import statsmodels.api as sm \n",
    "import os "
   ]
  },
  {
   "cell_type": "code",
   "execution_count": 5,
   "metadata": {},
   "outputs": [],
   "source": [
    "df = pd.read_csv('./hsb2.csv')"
   ]
  },
  {
   "cell_type": "code",
   "execution_count": 6,
   "metadata": {},
   "outputs": [
    {
     "data": {
      "text/html": [
       "<table class=\"simpletable\">\n",
       "<caption>OLS Regression Results</caption>\n",
       "<tr>\n",
       "  <th>Dep. Variable:</th>          <td>read</td>       <th>  R-squared:         </th> <td>   0.481</td>\n",
       "</tr>\n",
       "<tr>\n",
       "  <th>Model:</th>                   <td>OLS</td>       <th>  Adj. R-squared:    </th> <td>   0.475</td>\n",
       "</tr>\n",
       "<tr>\n",
       "  <th>Method:</th>             <td>Least Squares</td>  <th>  F-statistic:       </th> <td>   91.13</td>\n",
       "</tr>\n",
       "<tr>\n",
       "  <th>Date:</th>             <td>Mon, 17 Apr 2023</td> <th>  Prob (F-statistic):</th> <td>9.52e-29</td>\n",
       "</tr>\n",
       "<tr>\n",
       "  <th>Time:</th>                 <td>17:42:04</td>     <th>  Log-Likelihood:    </th> <td> -683.30</td>\n",
       "</tr>\n",
       "<tr>\n",
       "  <th>No. Observations:</th>      <td>   200</td>      <th>  AIC:               </th> <td>   1373.</td>\n",
       "</tr>\n",
       "<tr>\n",
       "  <th>Df Residuals:</th>          <td>   197</td>      <th>  BIC:               </th> <td>   1382.</td>\n",
       "</tr>\n",
       "<tr>\n",
       "  <th>Df Model:</th>              <td>     2</td>      <th>                     </th>     <td> </td>   \n",
       "</tr>\n",
       "<tr>\n",
       "  <th>Covariance Type:</th>      <td>nonrobust</td>    <th>                     </th>     <td> </td>   \n",
       "</tr>\n",
       "</table>\n",
       "<table class=\"simpletable\">\n",
       "<tr>\n",
       "     <td></td>        <th>coef</th>     <th>std err</th>      <th>t</th>      <th>P>|t|</th>  <th>[0.025</th>    <th>0.975]</th>  \n",
       "</tr>\n",
       "<tr>\n",
       "  <th>const</th>   <td>    9.0874</td> <td>    3.258</td> <td>    2.789</td> <td> 0.006</td> <td>    2.663</td> <td>   15.512</td>\n",
       "</tr>\n",
       "<tr>\n",
       "  <th>write</th>   <td>    0.3805</td> <td>    0.068</td> <td>    5.627</td> <td> 0.000</td> <td>    0.247</td> <td>    0.514</td>\n",
       "</tr>\n",
       "<tr>\n",
       "  <th>science</th> <td>    0.4448</td> <td>    0.065</td> <td>    6.870</td> <td> 0.000</td> <td>    0.317</td> <td>    0.572</td>\n",
       "</tr>\n",
       "</table>\n",
       "<table class=\"simpletable\">\n",
       "<tr>\n",
       "  <th>Omnibus:</th>       <td> 2.445</td> <th>  Durbin-Watson:     </th> <td>   2.147</td>\n",
       "</tr>\n",
       "<tr>\n",
       "  <th>Prob(Omnibus):</th> <td> 0.295</td> <th>  Jarque-Bera (JB):  </th> <td>   2.184</td>\n",
       "</tr>\n",
       "<tr>\n",
       "  <th>Skew:</th>          <td>-0.159</td> <th>  Prob(JB):          </th> <td>   0.335</td>\n",
       "</tr>\n",
       "<tr>\n",
       "  <th>Kurtosis:</th>      <td> 2.599</td> <th>  Cond. No.          </th> <td>    465.</td>\n",
       "</tr>\n",
       "</table><br/><br/>Notes:<br/>[1] Standard Errors assume that the covariance matrix of the errors is correctly specified."
      ],
      "text/plain": [
       "<class 'statsmodels.iolib.summary.Summary'>\n",
       "\"\"\"\n",
       "                            OLS Regression Results                            \n",
       "==============================================================================\n",
       "Dep. Variable:                   read   R-squared:                       0.481\n",
       "Model:                            OLS   Adj. R-squared:                  0.475\n",
       "Method:                 Least Squares   F-statistic:                     91.13\n",
       "Date:                Mon, 17 Apr 2023   Prob (F-statistic):           9.52e-29\n",
       "Time:                        17:42:04   Log-Likelihood:                -683.30\n",
       "No. Observations:                 200   AIC:                             1373.\n",
       "Df Residuals:                     197   BIC:                             1382.\n",
       "Df Model:                           2                                         \n",
       "Covariance Type:            nonrobust                                         \n",
       "==============================================================================\n",
       "                 coef    std err          t      P>|t|      [0.025      0.975]\n",
       "------------------------------------------------------------------------------\n",
       "const          9.0874      3.258      2.789      0.006       2.663      15.512\n",
       "write          0.3805      0.068      5.627      0.000       0.247       0.514\n",
       "science        0.4448      0.065      6.870      0.000       0.317       0.572\n",
       "==============================================================================\n",
       "Omnibus:                        2.445   Durbin-Watson:                   2.147\n",
       "Prob(Omnibus):                  0.295   Jarque-Bera (JB):                2.184\n",
       "Skew:                          -0.159   Prob(JB):                        0.335\n",
       "Kurtosis:                       2.599   Cond. No.                         465.\n",
       "==============================================================================\n",
       "\n",
       "Notes:\n",
       "[1] Standard Errors assume that the covariance matrix of the errors is correctly specified.\n",
       "\"\"\""
      ]
     },
     "execution_count": 6,
     "metadata": {},
     "output_type": "execute_result"
    }
   ],
   "source": [
    "X = df[['write','science']] \n",
    "Y = df['read'] \n",
    "X = sm.add_constant(X) \n",
    "model = sm.OLS(Y,X).fit()\n",
    "model.summary()"
   ]
  },
  {
   "cell_type": "code",
   "execution_count": 7,
   "metadata": {},
   "outputs": [
    {
     "data": {
      "text/plain": [
       "0.12046436842290265"
      ]
     },
     "execution_count": 7,
     "metadata": {},
     "output_type": "execute_result"
    }
   ],
   "source": [
    "\n",
    "df['read_pred'] = 9.0874 + 0.3805 * df['write'] + 0.4448 * df['science'] \n",
    "df['error'] = (df['read_pred'] - df['read']).abs()\n",
    "df['rel_error'] = df['error'] / df['read'] \n",
    "df['rel_error'].mean()"
   ]
  },
  {
   "attachments": {},
   "cell_type": "markdown",
   "metadata": {},
   "source": [
    "To find the correlation between the variables import the function pearsonr from scipy.stats \n",
    "To find the correlation between revenue and percentOccupancy \n",
    "corr, _ = pearsonr(df['PercentOccupancy'],df['revenue']) \n",
    "\n",
    "type corr and runit to get the value of the correlation"
   ]
  },
  {
   "cell_type": "code",
   "execution_count": 8,
   "metadata": {},
   "outputs": [
    {
     "data": {
      "text/html": [
       "<div>\n",
       "<style scoped>\n",
       "    .dataframe tbody tr th:only-of-type {\n",
       "        vertical-align: middle;\n",
       "    }\n",
       "\n",
       "    .dataframe tbody tr th {\n",
       "        vertical-align: top;\n",
       "    }\n",
       "\n",
       "    .dataframe thead th {\n",
       "        text-align: right;\n",
       "    }\n",
       "</style>\n",
       "<table border=\"1\" class=\"dataframe\">\n",
       "  <thead>\n",
       "    <tr style=\"text-align: right;\">\n",
       "      <th></th>\n",
       "      <th>id</th>\n",
       "      <th>Gender</th>\n",
       "      <th>race</th>\n",
       "      <th>ses</th>\n",
       "      <th>schtyp</th>\n",
       "      <th>prog</th>\n",
       "      <th>read</th>\n",
       "      <th>write</th>\n",
       "      <th>math</th>\n",
       "      <th>science</th>\n",
       "      <th>socst</th>\n",
       "      <th>read_pred</th>\n",
       "      <th>error</th>\n",
       "      <th>rel_error</th>\n",
       "    </tr>\n",
       "  </thead>\n",
       "  <tbody>\n",
       "    <tr>\n",
       "      <th>0</th>\n",
       "      <td>70</td>\n",
       "      <td>0</td>\n",
       "      <td>4</td>\n",
       "      <td>1</td>\n",
       "      <td>1</td>\n",
       "      <td>1</td>\n",
       "      <td>57</td>\n",
       "      <td>52</td>\n",
       "      <td>41</td>\n",
       "      <td>47</td>\n",
       "      <td>57</td>\n",
       "      <td>49.7790</td>\n",
       "      <td>7.2210</td>\n",
       "      <td>0.126684</td>\n",
       "    </tr>\n",
       "    <tr>\n",
       "      <th>1</th>\n",
       "      <td>121</td>\n",
       "      <td>1</td>\n",
       "      <td>4</td>\n",
       "      <td>2</td>\n",
       "      <td>1</td>\n",
       "      <td>3</td>\n",
       "      <td>68</td>\n",
       "      <td>59</td>\n",
       "      <td>53</td>\n",
       "      <td>63</td>\n",
       "      <td>61</td>\n",
       "      <td>59.5593</td>\n",
       "      <td>8.4407</td>\n",
       "      <td>0.124128</td>\n",
       "    </tr>\n",
       "    <tr>\n",
       "      <th>2</th>\n",
       "      <td>86</td>\n",
       "      <td>0</td>\n",
       "      <td>4</td>\n",
       "      <td>3</td>\n",
       "      <td>1</td>\n",
       "      <td>1</td>\n",
       "      <td>44</td>\n",
       "      <td>33</td>\n",
       "      <td>54</td>\n",
       "      <td>58</td>\n",
       "      <td>31</td>\n",
       "      <td>47.4423</td>\n",
       "      <td>3.4423</td>\n",
       "      <td>0.078234</td>\n",
       "    </tr>\n",
       "    <tr>\n",
       "      <th>3</th>\n",
       "      <td>141</td>\n",
       "      <td>0</td>\n",
       "      <td>4</td>\n",
       "      <td>3</td>\n",
       "      <td>1</td>\n",
       "      <td>3</td>\n",
       "      <td>63</td>\n",
       "      <td>44</td>\n",
       "      <td>47</td>\n",
       "      <td>53</td>\n",
       "      <td>56</td>\n",
       "      <td>49.4038</td>\n",
       "      <td>13.5962</td>\n",
       "      <td>0.215813</td>\n",
       "    </tr>\n",
       "    <tr>\n",
       "      <th>4</th>\n",
       "      <td>172</td>\n",
       "      <td>0</td>\n",
       "      <td>4</td>\n",
       "      <td>2</td>\n",
       "      <td>1</td>\n",
       "      <td>2</td>\n",
       "      <td>47</td>\n",
       "      <td>52</td>\n",
       "      <td>57</td>\n",
       "      <td>53</td>\n",
       "      <td>61</td>\n",
       "      <td>52.4478</td>\n",
       "      <td>5.4478</td>\n",
       "      <td>0.115911</td>\n",
       "    </tr>\n",
       "  </tbody>\n",
       "</table>\n",
       "</div>"
      ],
      "text/plain": [
       "    id  Gender  race  ses  schtyp  prog  read  write  math  science  socst  \\\n",
       "0   70       0     4    1       1     1    57     52    41       47     57   \n",
       "1  121       1     4    2       1     3    68     59    53       63     61   \n",
       "2   86       0     4    3       1     1    44     33    54       58     31   \n",
       "3  141       0     4    3       1     3    63     44    47       53     56   \n",
       "4  172       0     4    2       1     2    47     52    57       53     61   \n",
       "\n",
       "   read_pred    error  rel_error  \n",
       "0    49.7790   7.2210   0.126684  \n",
       "1    59.5593   8.4407   0.124128  \n",
       "2    47.4423   3.4423   0.078234  \n",
       "3    49.4038  13.5962   0.215813  \n",
       "4    52.4478   5.4478   0.115911  "
      ]
     },
     "execution_count": 8,
     "metadata": {},
     "output_type": "execute_result"
    }
   ],
   "source": [
    "df.head()"
   ]
  },
  {
   "cell_type": "code",
   "execution_count": 9,
   "metadata": {},
   "outputs": [
    {
     "data": {
      "text/plain": [
       "0.5967764790880452"
      ]
     },
     "execution_count": 9,
     "metadata": {},
     "output_type": "execute_result"
    }
   ],
   "source": [
    "corr1 , _ = sc.pearsonr(df['read'], df['write']) \n",
    "corr1"
   ]
  },
  {
   "cell_type": "code",
   "execution_count": 10,
   "metadata": {},
   "outputs": [
    {
     "data": {
      "text/plain": [
       "0.6622801251558604"
      ]
     },
     "execution_count": 10,
     "metadata": {},
     "output_type": "execute_result"
    }
   ],
   "source": [
    "corr1 , _ = sc.pearsonr(df['read'], df['math'])\n",
    "corr1 "
   ]
  },
  {
   "cell_type": "code",
   "execution_count": 11,
   "metadata": {},
   "outputs": [
    {
     "data": {
      "text/plain": [
       "0.630157870118315"
      ]
     },
     "execution_count": 11,
     "metadata": {},
     "output_type": "execute_result"
    }
   ],
   "source": [
    "corr1 , _ = sc.pearsonr(df['read'], df['science'])\n",
    "corr1 "
   ]
  },
  {
   "cell_type": "code",
   "execution_count": 12,
   "metadata": {},
   "outputs": [
    {
     "data": {
      "text/plain": [
       "0.6214842723887142"
      ]
     },
     "execution_count": 12,
     "metadata": {},
     "output_type": "execute_result"
    }
   ],
   "source": [
    "corr1 , _ = sc.pearsonr(df['read'], df['socst'])\n",
    "corr1 "
   ]
  },
  {
   "cell_type": "code",
   "execution_count": 13,
   "metadata": {},
   "outputs": [
    {
     "data": {
      "text/html": [
       "<table class=\"simpletable\">\n",
       "<caption>OLS Regression Results</caption>\n",
       "<tr>\n",
       "  <th>Dep. Variable:</th>          <td>read</td>       <th>  R-squared:         </th> <td>   0.514</td>\n",
       "</tr>\n",
       "<tr>\n",
       "  <th>Model:</th>                   <td>OLS</td>       <th>  Adj. R-squared:    </th> <td>   0.509</td>\n",
       "</tr>\n",
       "<tr>\n",
       "  <th>Method:</th>             <td>Least Squares</td>  <th>  F-statistic:       </th> <td>   104.0</td>\n",
       "</tr>\n",
       "<tr>\n",
       "  <th>Date:</th>             <td>Mon, 17 Apr 2023</td> <th>  Prob (F-statistic):</th> <td>1.49e-31</td>\n",
       "</tr>\n",
       "<tr>\n",
       "  <th>Time:</th>                 <td>17:42:13</td>     <th>  Log-Likelihood:    </th> <td> -676.74</td>\n",
       "</tr>\n",
       "<tr>\n",
       "  <th>No. Observations:</th>      <td>   200</td>      <th>  AIC:               </th> <td>   1359.</td>\n",
       "</tr>\n",
       "<tr>\n",
       "  <th>Df Residuals:</th>          <td>   197</td>      <th>  BIC:               </th> <td>   1369.</td>\n",
       "</tr>\n",
       "<tr>\n",
       "  <th>Df Model:</th>              <td>     2</td>      <th>                     </th>     <td> </td>   \n",
       "</tr>\n",
       "<tr>\n",
       "  <th>Covariance Type:</th>      <td>nonrobust</td>    <th>                     </th>     <td> </td>   \n",
       "</tr>\n",
       "</table>\n",
       "<table class=\"simpletable\">\n",
       "<tr>\n",
       "     <td></td>        <th>coef</th>     <th>std err</th>      <th>t</th>      <th>P>|t|</th>  <th>[0.025</th>    <th>0.975]</th>  \n",
       "</tr>\n",
       "<tr>\n",
       "  <th>const</th>   <td>    7.9505</td> <td>    3.113</td> <td>    2.554</td> <td> 0.011</td> <td>    1.812</td> <td>   14.089</td>\n",
       "</tr>\n",
       "<tr>\n",
       "  <th>math</th>    <td>    0.4813</td> <td>    0.070</td> <td>    6.868</td> <td> 0.000</td> <td>    0.343</td> <td>    0.619</td>\n",
       "</tr>\n",
       "<tr>\n",
       "  <th>science</th> <td>    0.3653</td> <td>    0.066</td> <td>    5.509</td> <td> 0.000</td> <td>    0.235</td> <td>    0.496</td>\n",
       "</tr>\n",
       "</table>\n",
       "<table class=\"simpletable\">\n",
       "<tr>\n",
       "  <th>Omnibus:</th>       <td> 0.646</td> <th>  Durbin-Watson:     </th> <td>   2.268</td>\n",
       "</tr>\n",
       "<tr>\n",
       "  <th>Prob(Omnibus):</th> <td> 0.724</td> <th>  Jarque-Bera (JB):  </th> <td>   0.703</td>\n",
       "</tr>\n",
       "<tr>\n",
       "  <th>Skew:</th>          <td>-0.133</td> <th>  Prob(JB):          </th> <td>   0.704</td>\n",
       "</tr>\n",
       "<tr>\n",
       "  <th>Kurtosis:</th>      <td> 2.886</td> <th>  Cond. No.          </th> <td>    459.</td>\n",
       "</tr>\n",
       "</table><br/><br/>Notes:<br/>[1] Standard Errors assume that the covariance matrix of the errors is correctly specified."
      ],
      "text/plain": [
       "<class 'statsmodels.iolib.summary.Summary'>\n",
       "\"\"\"\n",
       "                            OLS Regression Results                            \n",
       "==============================================================================\n",
       "Dep. Variable:                   read   R-squared:                       0.514\n",
       "Model:                            OLS   Adj. R-squared:                  0.509\n",
       "Method:                 Least Squares   F-statistic:                     104.0\n",
       "Date:                Mon, 17 Apr 2023   Prob (F-statistic):           1.49e-31\n",
       "Time:                        17:42:13   Log-Likelihood:                -676.74\n",
       "No. Observations:                 200   AIC:                             1359.\n",
       "Df Residuals:                     197   BIC:                             1369.\n",
       "Df Model:                           2                                         \n",
       "Covariance Type:            nonrobust                                         \n",
       "==============================================================================\n",
       "                 coef    std err          t      P>|t|      [0.025      0.975]\n",
       "------------------------------------------------------------------------------\n",
       "const          7.9505      3.113      2.554      0.011       1.812      14.089\n",
       "math           0.4813      0.070      6.868      0.000       0.343       0.619\n",
       "science        0.3653      0.066      5.509      0.000       0.235       0.496\n",
       "==============================================================================\n",
       "Omnibus:                        0.646   Durbin-Watson:                   2.268\n",
       "Prob(Omnibus):                  0.724   Jarque-Bera (JB):                0.703\n",
       "Skew:                          -0.133   Prob(JB):                        0.704\n",
       "Kurtosis:                       2.886   Cond. No.                         459.\n",
       "==============================================================================\n",
       "\n",
       "Notes:\n",
       "[1] Standard Errors assume that the covariance matrix of the errors is correctly specified.\n",
       "\"\"\""
      ]
     },
     "execution_count": 13,
     "metadata": {},
     "output_type": "execute_result"
    }
   ],
   "source": [
    "X = df[['math','science']] \n",
    "Y = df['read'] \n",
    "X = sm.add_constant(X) \n",
    "model = sm.OLS(Y,X).fit()\n",
    "model.summary()"
   ]
  },
  {
   "cell_type": "code",
   "execution_count": 14,
   "metadata": {},
   "outputs": [
    {
     "data": {
      "text/plain": [
       "0.11278340893112927"
      ]
     },
     "execution_count": 14,
     "metadata": {},
     "output_type": "execute_result"
    }
   ],
   "source": [
    "\n",
    "df['read_pred'] = 7.9505 + 0.4813 * df['math'] + 0.3653 * df['science'] \n",
    "df['error'] = (df['read_pred'] - df['read']).abs()\n",
    "df['rel_error'] = df['error'] / df['read'] \n",
    "df['rel_error'].mean()"
   ]
  },
  {
   "cell_type": "code",
   "execution_count": 15,
   "metadata": {},
   "outputs": [
    {
     "data": {
      "text/html": [
       "<table class=\"simpletable\">\n",
       "<caption>OLS Regression Results</caption>\n",
       "<tr>\n",
       "  <th>Dep. Variable:</th>          <td>read</td>       <th>  R-squared:         </th> <td>   0.439</td>\n",
       "</tr>\n",
       "<tr>\n",
       "  <th>Model:</th>                   <td>OLS</td>       <th>  Adj. R-squared:    </th> <td>   0.436</td>\n",
       "</tr>\n",
       "<tr>\n",
       "  <th>Method:</th>             <td>Least Squares</td>  <th>  F-statistic:       </th> <td>   154.7</td>\n",
       "</tr>\n",
       "<tr>\n",
       "  <th>Date:</th>             <td>Mon, 17 Apr 2023</td> <th>  Prob (F-statistic):</th> <td>1.28e-26</td>\n",
       "</tr>\n",
       "<tr>\n",
       "  <th>Time:</th>                 <td>17:42:16</td>     <th>  Log-Likelihood:    </th> <td> -691.06</td>\n",
       "</tr>\n",
       "<tr>\n",
       "  <th>No. Observations:</th>      <td>   200</td>      <th>  AIC:               </th> <td>   1386.</td>\n",
       "</tr>\n",
       "<tr>\n",
       "  <th>Df Residuals:</th>          <td>   198</td>      <th>  BIC:               </th> <td>   1393.</td>\n",
       "</tr>\n",
       "<tr>\n",
       "  <th>Df Model:</th>              <td>     1</td>      <th>                     </th>     <td> </td>   \n",
       "</tr>\n",
       "<tr>\n",
       "  <th>Covariance Type:</th>      <td>nonrobust</td>    <th>                     </th>     <td> </td>   \n",
       "</tr>\n",
       "</table>\n",
       "<table class=\"simpletable\">\n",
       "<tr>\n",
       "    <td></td>       <th>coef</th>     <th>std err</th>      <th>t</th>      <th>P>|t|</th>  <th>[0.025</th>    <th>0.975]</th>  \n",
       "</tr>\n",
       "<tr>\n",
       "  <th>const</th> <td>   14.0725</td> <td>    3.116</td> <td>    4.516</td> <td> 0.000</td> <td>    7.928</td> <td>   20.217</td>\n",
       "</tr>\n",
       "<tr>\n",
       "  <th>math</th>  <td>    0.7248</td> <td>    0.058</td> <td>   12.438</td> <td> 0.000</td> <td>    0.610</td> <td>    0.840</td>\n",
       "</tr>\n",
       "</table>\n",
       "<table class=\"simpletable\">\n",
       "<tr>\n",
       "  <th>Omnibus:</th>       <td> 1.981</td> <th>  Durbin-Watson:     </th> <td>   2.183</td>\n",
       "</tr>\n",
       "<tr>\n",
       "  <th>Prob(Omnibus):</th> <td> 0.371</td> <th>  Jarque-Bera (JB):  </th> <td>   1.997</td>\n",
       "</tr>\n",
       "<tr>\n",
       "  <th>Skew:</th>          <td> 0.237</td> <th>  Prob(JB):          </th> <td>   0.368</td>\n",
       "</tr>\n",
       "<tr>\n",
       "  <th>Kurtosis:</th>      <td> 2.880</td> <th>  Cond. No.          </th> <td>    306.</td>\n",
       "</tr>\n",
       "</table><br/><br/>Notes:<br/>[1] Standard Errors assume that the covariance matrix of the errors is correctly specified."
      ],
      "text/plain": [
       "<class 'statsmodels.iolib.summary.Summary'>\n",
       "\"\"\"\n",
       "                            OLS Regression Results                            \n",
       "==============================================================================\n",
       "Dep. Variable:                   read   R-squared:                       0.439\n",
       "Model:                            OLS   Adj. R-squared:                  0.436\n",
       "Method:                 Least Squares   F-statistic:                     154.7\n",
       "Date:                Mon, 17 Apr 2023   Prob (F-statistic):           1.28e-26\n",
       "Time:                        17:42:16   Log-Likelihood:                -691.06\n",
       "No. Observations:                 200   AIC:                             1386.\n",
       "Df Residuals:                     198   BIC:                             1393.\n",
       "Df Model:                           1                                         \n",
       "Covariance Type:            nonrobust                                         \n",
       "==============================================================================\n",
       "                 coef    std err          t      P>|t|      [0.025      0.975]\n",
       "------------------------------------------------------------------------------\n",
       "const         14.0725      3.116      4.516      0.000       7.928      20.217\n",
       "math           0.7248      0.058     12.438      0.000       0.610       0.840\n",
       "==============================================================================\n",
       "Omnibus:                        1.981   Durbin-Watson:                   2.183\n",
       "Prob(Omnibus):                  0.371   Jarque-Bera (JB):                1.997\n",
       "Skew:                           0.237   Prob(JB):                        0.368\n",
       "Kurtosis:                       2.880   Cond. No.                         306.\n",
       "==============================================================================\n",
       "\n",
       "Notes:\n",
       "[1] Standard Errors assume that the covariance matrix of the errors is correctly specified.\n",
       "\"\"\""
      ]
     },
     "execution_count": 15,
     "metadata": {},
     "output_type": "execute_result"
    }
   ],
   "source": [
    "X = df['math'] \n",
    "Y = df['read'] \n",
    "X = sm.add_constant(X) \n",
    "model = sm.OLS(Y,X).fit()\n",
    "model.summary()\n"
   ]
  },
  {
   "cell_type": "code",
   "execution_count": 16,
   "metadata": {},
   "outputs": [
    {
     "data": {
      "text/plain": [
       "0.12871210524745794"
      ]
     },
     "execution_count": 16,
     "metadata": {},
     "output_type": "execute_result"
    }
   ],
   "source": [
    "df['read_pred'] = 14.0725 + 0.7248 * df['science'] \n",
    "df['error'] = (df['read_pred'] - df['read']).abs()\n",
    "df['rel_error'] = df['error'] / df['read'] \n",
    "df['rel_error'].mean()\n"
   ]
  },
  {
   "cell_type": "code",
   "execution_count": 17,
   "metadata": {},
   "outputs": [
    {
     "data": {
      "text/html": [
       "<table class=\"simpletable\">\n",
       "<caption>OLS Regression Results</caption>\n",
       "<tr>\n",
       "  <th>Dep. Variable:</th>          <td>read</td>       <th>  R-squared:         </th> <td>   0.589</td>\n",
       "</tr>\n",
       "<tr>\n",
       "  <th>Model:</th>                   <td>OLS</td>       <th>  Adj. R-squared:    </th> <td>   0.580</td>\n",
       "</tr>\n",
       "<tr>\n",
       "  <th>Method:</th>             <td>Least Squares</td>  <th>  F-statistic:       </th> <td>   69.74</td>\n",
       "</tr>\n",
       "<tr>\n",
       "  <th>Date:</th>             <td>Mon, 17 Apr 2023</td> <th>  Prob (F-statistic):</th> <td>1.44e-36</td>\n",
       "</tr>\n",
       "<tr>\n",
       "  <th>Time:</th>                 <td>17:42:17</td>     <th>  Log-Likelihood:    </th> <td> -659.98</td>\n",
       "</tr>\n",
       "<tr>\n",
       "  <th>No. Observations:</th>      <td>   200</td>      <th>  AIC:               </th> <td>   1330.</td>\n",
       "</tr>\n",
       "<tr>\n",
       "  <th>Df Residuals:</th>          <td>   195</td>      <th>  BIC:               </th> <td>   1346.</td>\n",
       "</tr>\n",
       "<tr>\n",
       "  <th>Df Model:</th>              <td>     4</td>      <th>                     </th>     <td> </td>   \n",
       "</tr>\n",
       "<tr>\n",
       "  <th>Covariance Type:</th>      <td>nonrobust</td>    <th>                     </th>     <td> </td>   \n",
       "</tr>\n",
       "</table>\n",
       "<table class=\"simpletable\">\n",
       "<tr>\n",
       "     <td></td>        <th>coef</th>     <th>std err</th>      <th>t</th>      <th>P>|t|</th>  <th>[0.025</th>    <th>0.975]</th>  \n",
       "</tr>\n",
       "<tr>\n",
       "  <th>const</th>   <td>    1.9461</td> <td>    3.087</td> <td>    0.630</td> <td> 0.529</td> <td>   -4.143</td> <td>    8.035</td>\n",
       "</tr>\n",
       "<tr>\n",
       "  <th>math</th>    <td>    0.3029</td> <td>    0.073</td> <td>    4.173</td> <td> 0.000</td> <td>    0.160</td> <td>    0.446</td>\n",
       "</tr>\n",
       "<tr>\n",
       "  <th>science</th> <td>    0.2737</td> <td>    0.064</td> <td>    4.252</td> <td> 0.000</td> <td>    0.147</td> <td>    0.401</td>\n",
       "</tr>\n",
       "<tr>\n",
       "  <th>write</th>   <td>    0.1104</td> <td>    0.071</td> <td>    1.548</td> <td> 0.123</td> <td>   -0.030</td> <td>    0.251</td>\n",
       "</tr>\n",
       "<tr>\n",
       "  <th>socst</th>   <td>    0.2733</td> <td>    0.057</td> <td>    4.759</td> <td> 0.000</td> <td>    0.160</td> <td>    0.387</td>\n",
       "</tr>\n",
       "</table>\n",
       "<table class=\"simpletable\">\n",
       "<tr>\n",
       "  <th>Omnibus:</th>       <td> 0.371</td> <th>  Durbin-Watson:     </th> <td>   2.129</td>\n",
       "</tr>\n",
       "<tr>\n",
       "  <th>Prob(Omnibus):</th> <td> 0.831</td> <th>  Jarque-Bera (JB):  </th> <td>   0.518</td>\n",
       "</tr>\n",
       "<tr>\n",
       "  <th>Skew:</th>          <td>-0.014</td> <th>  Prob(JB):          </th> <td>   0.772</td>\n",
       "</tr>\n",
       "<tr>\n",
       "  <th>Kurtosis:</th>      <td> 2.752</td> <th>  Cond. No.          </th> <td>    697.</td>\n",
       "</tr>\n",
       "</table><br/><br/>Notes:<br/>[1] Standard Errors assume that the covariance matrix of the errors is correctly specified."
      ],
      "text/plain": [
       "<class 'statsmodels.iolib.summary.Summary'>\n",
       "\"\"\"\n",
       "                            OLS Regression Results                            \n",
       "==============================================================================\n",
       "Dep. Variable:                   read   R-squared:                       0.589\n",
       "Model:                            OLS   Adj. R-squared:                  0.580\n",
       "Method:                 Least Squares   F-statistic:                     69.74\n",
       "Date:                Mon, 17 Apr 2023   Prob (F-statistic):           1.44e-36\n",
       "Time:                        17:42:17   Log-Likelihood:                -659.98\n",
       "No. Observations:                 200   AIC:                             1330.\n",
       "Df Residuals:                     195   BIC:                             1346.\n",
       "Df Model:                           4                                         \n",
       "Covariance Type:            nonrobust                                         \n",
       "==============================================================================\n",
       "                 coef    std err          t      P>|t|      [0.025      0.975]\n",
       "------------------------------------------------------------------------------\n",
       "const          1.9461      3.087      0.630      0.529      -4.143       8.035\n",
       "math           0.3029      0.073      4.173      0.000       0.160       0.446\n",
       "science        0.2737      0.064      4.252      0.000       0.147       0.401\n",
       "write          0.1104      0.071      1.548      0.123      -0.030       0.251\n",
       "socst          0.2733      0.057      4.759      0.000       0.160       0.387\n",
       "==============================================================================\n",
       "Omnibus:                        0.371   Durbin-Watson:                   2.129\n",
       "Prob(Omnibus):                  0.831   Jarque-Bera (JB):                0.518\n",
       "Skew:                          -0.014   Prob(JB):                        0.772\n",
       "Kurtosis:                       2.752   Cond. No.                         697.\n",
       "==============================================================================\n",
       "\n",
       "Notes:\n",
       "[1] Standard Errors assume that the covariance matrix of the errors is correctly specified.\n",
       "\"\"\""
      ]
     },
     "execution_count": 17,
     "metadata": {},
     "output_type": "execute_result"
    }
   ],
   "source": [
    "X = df[['math','science','write','socst']] \n",
    "Y = df['read'] \n",
    "X = sm.add_constant(X) \n",
    "model = sm.OLS(Y,X).fit()\n",
    "model.summary()"
   ]
  },
  {
   "cell_type": "code",
   "execution_count": 18,
   "metadata": {},
   "outputs": [
    {
     "data": {
      "text/plain": [
       "0.10583163721832348"
      ]
     },
     "execution_count": 18,
     "metadata": {},
     "output_type": "execute_result"
    }
   ],
   "source": [
    "df['read_pred'] = 1.9461 + 0.3029 * df['math'] + 0.2737* df['science'] + 0.1104 * df['write'] + 0.2733 * df['socst']\n",
    "df['error'] = (df['read_pred'] - df['read']).abs()\n",
    "df['rel_error'] = df['error'] / df['read'] \n",
    "df['rel_error'].mean()"
   ]
  },
  {
   "attachments": {},
   "cell_type": "markdown",
   "metadata": {},
   "source": [
    "TO create a scatter plot b/w dependent and independent variable showing the variation. \n",
    "    - Create a scatter b/w the dependent variable read(d) and math(id) \n",
    "In python :\n",
    "\n"
   ]
  },
  {
   "cell_type": "code",
   "execution_count": 19,
   "metadata": {},
   "outputs": [],
   "source": [
    "import matplotlib.pyplot as plt "
   ]
  },
  {
   "attachments": {},
   "cell_type": "markdown",
   "metadata": {},
   "source": [
    "From the plot we can as the occupancy increases the revenue also increases \n",
    "Make the scatter plot b/w the following : \n",
    "    - revenue v/s occupancy \n",
    "    - read v/s write \n",
    "    - read v/s math \n",
    "    - read v/s science \n",
    "    - read v/s socst "
   ]
  },
  {
   "cell_type": "code",
   "execution_count": 20,
   "metadata": {},
   "outputs": [
    {
     "data": {
      "text/plain": [
       "<matplotlib.collections.PathCollection at 0x18d0d5f8310>"
      ]
     },
     "execution_count": 20,
     "metadata": {},
     "output_type": "execute_result"
    },
    {
     "data": {
      "image/png": "[encoded data removed]",
      "text/plain": [
       "<Figure size 640x480 with 1 Axes>"
      ]
     },
     "metadata": {},
     "output_type": "display_data"
    }
   ],
   "source": [
    "plt.scatter(df['write'],df['read'])"
   ]
  },
  {
   "cell_type": "code",
   "execution_count": 21,
   "metadata": {},
   "outputs": [
    {
     "data": {
      "text/plain": [
       "<matplotlib.collections.PathCollection at 0x18d0d836f40>"
      ]
     },
     "execution_count": 21,
     "metadata": {},
     "output_type": "execute_result"
    },
    {
     "data": {
      "image/png": "[encoded data removed]",
      "text/plain": [
       "<Figure size 640x480 with 1 Axes>"
      ]
     },
     "metadata": {},
     "output_type": "display_data"
    }
   ],
   "source": [
    "plt.scatter(df['math'],df['read'])"
   ]
  },
  {
   "cell_type": "code",
   "execution_count": 22,
   "metadata": {},
   "outputs": [
    {
     "data": {
      "text/plain": [
       "<matplotlib.collections.PathCollection at 0x18d0d6a3820>"
      ]
     },
     "execution_count": 22,
     "metadata": {},
     "output_type": "execute_result"
    },
    {
     "data": {
      "image/png": "[encoded data removed]",
      "text/plain": [
       "<Figure size 640x480 with 1 Axes>"
      ]
     },
     "metadata": {},
     "output_type": "display_data"
    }
   ],
   "source": [
    "plt.scatter(df['science'],df['read'])"
   ]
  },
  {
   "cell_type": "code",
   "execution_count": 23,
   "metadata": {},
   "outputs": [
    {
     "data": {
      "text/plain": [
       "<matplotlib.collections.PathCollection at 0x18d0d6fcfd0>"
      ]
     },
     "execution_count": 23,
     "metadata": {},
     "output_type": "execute_result"
    },
    {
     "data": {
      "image/png": "[encoded data removed]",
      "text/plain": [
       "<Figure size 640x480 with 1 Axes>"
      ]
     },
     "metadata": {},
     "output_type": "display_data"
    }
   ],
   "source": [
    "plt.scatter(df['socst'],df['read'])"
   ]
  },
  {
   "attachments": {},
   "cell_type": "markdown",
   "metadata": {},
   "source": [
    "1. To create a new variable in python Showing the percentage of marks \n",
    "2. Based on the percentage for each student i need to write down first second third and fail \n",
    "3. To create a new variable total in python \n"
   ]
  },
  {
   "cell_type": "code",
   "execution_count": 24,
   "metadata": {},
   "outputs": [],
   "source": [
    "df['total'] = df['read'] + df['write'] + df['math'] + df['science'] + df['socst']"
   ]
  },
  {
   "cell_type": "code",
   "execution_count": 25,
   "metadata": {},
   "outputs": [],
   "source": [
    "df['percentage'] = df['total'] / 5 "
   ]
  },
  {
   "cell_type": "markdown",
   "metadata": {},
   "source": [
    "Criteria for grade is - \n",
    "    upto 40 - fail \n",
    "    greater than 40 and less than 50 - grade third\n",
    "    greater than 50 and less than 80 - grade second\n",
    "    greater than 80 <= 100 grade first \n"
   ]
  },
  {
   "cell_type": "code",
   "execution_count": 26,
   "metadata": {},
   "outputs": [],
   "source": [
    "bins = [0,40,50,80,100] \n",
    "labels = ['fail','third','second','first'] \n",
    "df['grade'] = pd.cut(df['percentage'],bins , labels = labels)"
   ]
  },
  {
   "cell_type": "code",
   "execution_count": 27,
   "metadata": {},
   "outputs": [
    {
     "data": {
      "text/html": [
       "<div>\n",
       "<style scoped>\n",
       "    .dataframe tbody tr th:only-of-type {\n",
       "        vertical-align: middle;\n",
       "    }\n",
       "\n",
       "    .dataframe tbody tr th {\n",
       "        vertical-align: top;\n",
       "    }\n",
       "\n",
       "    .dataframe thead th {\n",
       "        text-align: right;\n",
       "    }\n",
       "</style>\n",
       "<table border=\"1\" class=\"dataframe\">\n",
       "  <thead>\n",
       "    <tr style=\"text-align: right;\">\n",
       "      <th></th>\n",
       "      <th>id</th>\n",
       "      <th>Gender</th>\n",
       "      <th>race</th>\n",
       "      <th>ses</th>\n",
       "      <th>schtyp</th>\n",
       "      <th>prog</th>\n",
       "      <th>read</th>\n",
       "      <th>write</th>\n",
       "      <th>math</th>\n",
       "      <th>science</th>\n",
       "      <th>socst</th>\n",
       "      <th>read_pred</th>\n",
       "      <th>error</th>\n",
       "      <th>rel_error</th>\n",
       "      <th>total</th>\n",
       "      <th>percentage</th>\n",
       "      <th>grade</th>\n",
       "    </tr>\n",
       "  </thead>\n",
       "  <tbody>\n",
       "    <tr>\n",
       "      <th>0</th>\n",
       "      <td>70</td>\n",
       "      <td>0</td>\n",
       "      <td>4</td>\n",
       "      <td>1</td>\n",
       "      <td>1</td>\n",
       "      <td>1</td>\n",
       "      <td>57</td>\n",
       "      <td>52</td>\n",
       "      <td>41</td>\n",
       "      <td>47</td>\n",
       "      <td>57</td>\n",
       "      <td>48.5478</td>\n",
       "      <td>8.4522</td>\n",
       "      <td>0.148284</td>\n",
       "      <td>254</td>\n",
       "      <td>50.8</td>\n",
       "      <td>second</td>\n",
       "    </tr>\n",
       "    <tr>\n",
       "      <th>1</th>\n",
       "      <td>121</td>\n",
       "      <td>1</td>\n",
       "      <td>4</td>\n",
       "      <td>2</td>\n",
       "      <td>1</td>\n",
       "      <td>3</td>\n",
       "      <td>68</td>\n",
       "      <td>59</td>\n",
       "      <td>53</td>\n",
       "      <td>63</td>\n",
       "      <td>61</td>\n",
       "      <td>58.4278</td>\n",
       "      <td>9.5722</td>\n",
       "      <td>0.140768</td>\n",
       "      <td>304</td>\n",
       "      <td>60.8</td>\n",
       "      <td>second</td>\n",
       "    </tr>\n",
       "    <tr>\n",
       "      <th>2</th>\n",
       "      <td>86</td>\n",
       "      <td>0</td>\n",
       "      <td>4</td>\n",
       "      <td>3</td>\n",
       "      <td>1</td>\n",
       "      <td>1</td>\n",
       "      <td>44</td>\n",
       "      <td>33</td>\n",
       "      <td>54</td>\n",
       "      <td>58</td>\n",
       "      <td>31</td>\n",
       "      <td>46.2928</td>\n",
       "      <td>2.2928</td>\n",
       "      <td>0.052109</td>\n",
       "      <td>220</td>\n",
       "      <td>44.0</td>\n",
       "      <td>third</td>\n",
       "    </tr>\n",
       "    <tr>\n",
       "      <th>3</th>\n",
       "      <td>141</td>\n",
       "      <td>0</td>\n",
       "      <td>4</td>\n",
       "      <td>3</td>\n",
       "      <td>1</td>\n",
       "      <td>3</td>\n",
       "      <td>63</td>\n",
       "      <td>44</td>\n",
       "      <td>47</td>\n",
       "      <td>53</td>\n",
       "      <td>56</td>\n",
       "      <td>50.8509</td>\n",
       "      <td>12.1491</td>\n",
       "      <td>0.192843</td>\n",
       "      <td>263</td>\n",
       "      <td>52.6</td>\n",
       "      <td>second</td>\n",
       "    </tr>\n",
       "    <tr>\n",
       "      <th>4</th>\n",
       "      <td>172</td>\n",
       "      <td>0</td>\n",
       "      <td>4</td>\n",
       "      <td>2</td>\n",
       "      <td>1</td>\n",
       "      <td>2</td>\n",
       "      <td>47</td>\n",
       "      <td>52</td>\n",
       "      <td>57</td>\n",
       "      <td>53</td>\n",
       "      <td>61</td>\n",
       "      <td>56.1296</td>\n",
       "      <td>9.1296</td>\n",
       "      <td>0.194247</td>\n",
       "      <td>270</td>\n",
       "      <td>54.0</td>\n",
       "      <td>second</td>\n",
       "    </tr>\n",
       "  </tbody>\n",
       "</table>\n",
       "</div>"
      ],
      "text/plain": [
       "    id  Gender  race  ses  schtyp  prog  read  write  math  science  socst  \\\n",
       "0   70       0     4    1       1     1    57     52    41       47     57   \n",
       "1  121       1     4    2       1     3    68     59    53       63     61   \n",
       "2   86       0     4    3       1     1    44     33    54       58     31   \n",
       "3  141       0     4    3       1     3    63     44    47       53     56   \n",
       "4  172       0     4    2       1     2    47     52    57       53     61   \n",
       "\n",
       "   read_pred    error  rel_error  total  percentage   grade  \n",
       "0    48.5478   8.4522   0.148284    254        50.8  second  \n",
       "1    58.4278   9.5722   0.140768    304        60.8  second  \n",
       "2    46.2928   2.2928   0.052109    220        44.0   third  \n",
       "3    50.8509  12.1491   0.192843    263        52.6  second  \n",
       "4    56.1296   9.1296   0.194247    270        54.0  second  "
      ]
     },
     "execution_count": 27,
     "metadata": {},
     "output_type": "execute_result"
    }
   ],
   "source": [
    "df.head()"
   ]
  },
  {
   "attachments": {},
   "cell_type": "markdown",
   "metadata": {},
   "source": [
    "create categorical variable gender_gr where 0 - boy and 1 is a girl \n",
    "create categorical variable prog_gr where 1 is cs and 2 is ec and 3 is it \n",
    "                            ses_gr where 1 is low and 2 is middle and 3 is high \n",
    "                            schtyp_gr where 1 is public and 2 is private "
   ]
  },
  {
   "cell_type": "code",
   "execution_count": 30,
   "metadata": {},
   "outputs": [],
   "source": [
    "bins = [-1, 0, 1] \n",
    "labels = ['boy','girl'] \n",
    "df['gender_gr'] = pd.cut(df['Gender'],bins , labels = labels)"
   ]
  },
  {
   "attachments": {},
   "cell_type": "markdown",
   "metadata": {},
   "source": [
    "Find the number of boys and girls in hsb2 database \n",
    "find the number of students who have opted each of the programs cs ec and it  \n",
    "find the number of students who come from public school and private school \n"
   ]
  },
  {
   "cell_type": "code",
   "execution_count": 29,
   "metadata": {},
   "outputs": [
    {
     "name": "stdout",
     "output_type": "stream",
     "text": [
      "<class 'pandas.core.frame.DataFrame'>\n",
      "RangeIndex: 200 entries, 0 to 199\n",
      "Data columns (total 17 columns):\n",
      " #   Column      Non-Null Count  Dtype   \n",
      "---  ------      --------------  -----   \n",
      " 0   id          200 non-null    int64   \n",
      " 1   Gender      200 non-null    int64   \n",
      " 2   race        200 non-null    int64   \n",
      " 3   ses         200 non-null    int64   \n",
      " 4   schtyp      200 non-null    int64   \n",
      " 5   prog        200 non-null    int64   \n",
      " 6   read        200 non-null    int64   \n",
      " 7   write       200 non-null    int64   \n",
      " 8   math        200 non-null    int64   \n",
      " 9   science     200 non-null    int64   \n",
      " 10  socst       200 non-null    int64   \n",
      " 11  read_pred   200 non-null    float64 \n",
      " 12  error       200 non-null    float64 \n",
      " 13  rel_error   200 non-null    float64 \n",
      " 14  total       200 non-null    int64   \n",
      " 15  percentage  200 non-null    float64 \n",
      " 16  grade       200 non-null    category\n",
      "dtypes: category(1), float64(4), int64(12)\n",
      "memory usage: 25.5 KB\n"
     ]
    }
   ],
   "source": [
    "df.info()"
   ]
  },
  {
   "cell_type": "code",
   "execution_count": null,
   "metadata": {},
   "outputs": [],
   "source": []
  }
 ],
 "metadata": {
  "kernelspec": {
   "display_name": "base",
   "language": "python",
   "name": "python3"
  },
  "language_info": {
   "codemirror_mode": {
    "name": "ipython",
    "version": 3
   },
   "file_extension": ".py",
   "mimetype": "text/x-python",
   "name": "python",
   "nbconvert_exporter": "python",
   "pygments_lexer": "ipython3",
   "version": "3.9.13"
  },
  "orig_nbformat": 4
 },
 "nbformat": 4,
 "nbformat_minor": 2
}
