{
 "cells": [
  {
   "attachments": {},
   "cell_type": "markdown",
   "metadata": {},
   "source": [
    "## Concept of normality of a variable \n",
    "\n",
    "![Alt text](https://i0.wp.com/www.projectguru.in/wp-content/uploads/2020/03/1-19.jpg?w%3D544%26ssl%3D1)\n",
    "\n",
    "**to check the noramality of the variable** :\n",
    "  1. calc. mean and standard deviation \n",
    "  2. calc. \n",
    "      - x1 = (mean + sd) \n",
    "      - x2 = (mean - sd)\n",
    "  3. to get the area of the curve b/w +-std genrate a freq. table for the 'BMI'\n",
    "  4. count the no. of values b/w x1 and x2 / no. of rows\n",
    "      - criteria 1 : >= 0.683\n",
    "      - criteria 2 : >= 0.955\n",
    "      - criteria 3 : >= 0.997"
   ]
  }
 ],
 "metadata": {
  "language_info": {
   "name": "python"
  },
  "orig_nbformat": 4
 },
 "nbformat": 4,
 "nbformat_minor": 2
}
