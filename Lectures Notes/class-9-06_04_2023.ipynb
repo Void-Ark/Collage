{
 "cells": [
  {
   "cell_type": "markdown",
   "metadata": {},
   "source": [
    "# OBJECTIVE 3 : "
   ]
  },
  {
   "attachments": {},
   "cell_type": "markdown",
   "metadata": {},
   "source": [
    "- to see is there is a significance diff. in marks b/w sec.A, B, C \n",
    "- in this case \n",
    "    - if the var. has normal distribution \n",
    "        - then **ANOVA** test is used \n",
    "    - else : \n",
    "        - **Kruskal-Wallis Test** testis used"
   ]
  },
  {
   "attachments": {},
   "cell_type": "markdown",
   "metadata": {},
   "source": [
    "---\n",
    "## ANOVA test \n",
    "\n",
    "- h0 : there is no significance diff. (all the population means are equal)\n",
    "- ha : there is significance diff. (at least one of the population)\n",
    "\n"
   ]
  },
  {
   "cell_type": "code",
   "execution_count": 33,
   "metadata": {},
   "outputs": [
    {
     "name": "stdout",
     "output_type": "stream",
     "text": [
      "               df     sum_sq   mean_sq         F        PR(>F)\n",
      "C(species)    2.0  11.344933  5.672467  49.16004  4.492017e-17\n",
      "Residual    147.0  16.962000  0.115388       NaN           NaN\n"
     ]
    }
   ],
   "source": [
    "# ordinary least square (ols)\n",
    "from statsmodels.formula.api import ols\n",
    "# anova_lm \n",
    "from statsmodels.stats.anova import anova_lm \n",
    "import numpy as np \n",
    "import seaborn as sns \n",
    "iris = sns.load_dataset('iris')\n",
    "\n",
    "\n",
    "formula = 'sepal_width ~ C(species)'\n",
    "model = ols(formula, iris).fit()\n",
    "aov_table = anova_lm(model)\n",
    "print(aov_table)\n",
    "# the value calc. from the python is more than the critical value \n",
    "# so h0 is rejected : there is the signogicance diff. "
   ]
  },
  {
   "cell_type": "code",
   "execution_count": 34,
   "metadata": {},
   "outputs": [
    {
     "name": "stdout",
     "output_type": "stream",
     "text": [
      "             df       sum_sq      mean_sq          F        PR(>F)\n",
      "C(prog)     2.0   3716.86127  1858.430635  21.282348  4.283274e-09\n",
      "Residual  197.0  17202.55873    87.322633        NaN           NaN\n"
     ]
    }
   ],
   "source": [
    "# use the dataset the \n",
    "#replace 1 with btch, 2->mtech, 3-> research\n",
    "#objective is to see is there a signoficance diff. b/w the reading skill of the student b/w the three type of program\n",
    "\n",
    "# ordinary least square (ols)\n",
    "from statsmodels.formula.api import ols\n",
    "# anova_lm \n",
    "from statsmodels.stats.anova import anova_lm \n",
    "import numpy as np \n",
    "import pandas as pd\n",
    "hsb2_change = pd.read_csv('./hsb2_change.csv')\n",
    "\n",
    "hsb2_change['prog'] = pd.Categorical(hsb2_change['prog'])\n",
    "\n",
    "formula = 'read ~ C(prog)'\n",
    "model = ols(formula, hsb2_change).fit()\n",
    "aov_table = anova_lm(model)\n",
    "print(aov_table)\n",
    "\n",
    "# F Distribution:  Critical Values of F (5% significance level) : (2, 197) => 3.04\n",
    "# 3.04 < 21.28\n",
    "# h0 is rejected"
   ]
  },
  {
   "cell_type": "code",
   "execution_count": 35,
   "metadata": {},
   "outputs": [
    {
     "name": "stdout",
     "output_type": "stream",
     "text": [
      "             df        sum_sq     mean_sq         F    PR(>F)\n",
      "C(race)     3.0   1842.140193  614.046731  7.703265  0.000068\n",
      "Residual  196.0  15623.654807   79.712525       NaN       NaN\n"
     ]
    }
   ],
   "source": [
    "# There are four categories north, south, east and west \n",
    "# check the hypothesis is there significancse diff. in the maths iq with the race of the student\n",
    "\n",
    "# ordinary least square (ols)\n",
    "from statsmodels.formula.api import ols\n",
    "# anova_lm \n",
    "from statsmodels.stats.anova import anova_lm \n",
    "import numpy as np \n",
    "import pandas as pd\n",
    "hsb2_change = pd.read_csv('./hsb2_change.csv')\n",
    "\n",
    "hsb2_change['race'] = pd.Categorical(hsb2_change['race'])\n",
    "\n",
    "formula = 'math ~ C(race)'\n",
    "model = ols(formula, hsb2_change).fit()\n",
    "aov_table = anova_lm(model)\n",
    "print(aov_table)\n",
    "\n",
    "# F Distribution:  Critical Values of F (5% significance level) : (2, 197) => 2.65\n",
    "# 2.65 < 7.70\n",
    "# h0 is rejected\n",
    "# there is significanse diff."
   ]
  },
  {
   "attachments": {},
   "cell_type": "markdown",
   "metadata": {},
   "source": [
    "---\n",
    "## Kruskal-Wallis Test \n",
    "\n",
    "**if the variable doesn't has normal distribution use this test**\n",
    "\n",
    "s311\n",
    "psit"
   ]
  },
  {
   "cell_type": "code",
   "execution_count": 41,
   "metadata": {},
   "outputs": [
    {
     "name": "stdout",
     "output_type": "stream",
     "text": [
      "stat = 63.571, p=0.000\n",
      "ha : probabily diff. distribution\n"
     ]
    }
   ],
   "source": [
    "from scipy.stats import kruskal\n",
    "import pandas as pd\n",
    "import seaborn as sns \n",
    "\n",
    "iris = sns.load_dataset('iris')\n",
    "\n",
    "stat, p = kruskal(\n",
    "    iris['sepal_width'][iris['species'] == 'setosa'], \n",
    "    iris['sepal_width'][iris['species'] == 'versicolor'], \n",
    "    iris['sepal_width'][iris['species'] == 'virginica']\n",
    "                  )\n",
    "print('stat = %.3f, p=%.3f' % (stat, p))\n",
    "\n",
    "if p > 0.05 : \n",
    "    print('ho: probabily the same distribution')\n",
    "else : \n",
    "    print('ha : probabily diff. distribution') \n"
   ]
  },
  {
   "cell_type": "code",
   "execution_count": 42,
   "metadata": {},
   "outputs": [
    {
     "name": "stdout",
     "output_type": "stream",
     "text": [
      "stat = 16.782, p=0.000\n",
      "ha : probabily diff. distribution\n"
     ]
    }
   ],
   "source": [
    "# replace low, mid, high for ses \n",
    "# do krusical Value test to see is there a significvance diff in scienceiq with student with social economic diff.\n",
    "\n",
    "from scipy.stats import kruskal\n",
    "import pandas as pd\n",
    "hsb2_change = pd.read_csv('./hsb2_change.csv')\n",
    "\n",
    "stat, p = kruskal(\n",
    "        hsb2_change['science'][hsb2_change['ses'] == 'low'], \n",
    "        hsb2_change['science'][hsb2_change['ses'] == 'mid'], \n",
    "        hsb2_change['science'][hsb2_change['ses'] == 'high'], \n",
    "                  )\n",
    "print('stat = %.3f, p=%.3f' % (stat, p))\n",
    "\n",
    "if p > 0.05 : \n",
    "    print('ho: probabily the same distribution')\n",
    "else : \n",
    "    print('ha : probabily diff. distribution') "
   ]
  },
  {
   "attachments": {},
   "cell_type": "markdown",
   "metadata": {},
   "source": [
    "---\n",
    "## iris dataset \n",
    "\n",
    "- this dataset is available in **seaborn**\n",
    "- import seaborn as sns \n",
    "- \n",
    "- the **function changes** depending upon the library from which the dataset has been called.\n"
   ]
  },
  {
   "cell_type": "code",
   "execution_count": 23,
   "metadata": {},
   "outputs": [],
   "source": [
    "\n",
    "import seaborn as sns\n",
    "import pandas as pd\n",
    "iris = sns.load_dataset('iris')"
   ]
  },
  {
   "cell_type": "code",
   "execution_count": 20,
   "metadata": {},
   "outputs": [
    {
     "data": {
      "text/html": [
       "<div>\n",
       "<style scoped>\n",
       "    .dataframe tbody tr th:only-of-type {\n",
       "        vertical-align: middle;\n",
       "    }\n",
       "\n",
       "    .dataframe tbody tr th {\n",
       "        vertical-align: top;\n",
       "    }\n",
       "\n",
       "    .dataframe thead th {\n",
       "        text-align: right;\n",
       "    }\n",
       "</style>\n",
       "<table border=\"1\" class=\"dataframe\">\n",
       "  <thead>\n",
       "    <tr style=\"text-align: right;\">\n",
       "      <th></th>\n",
       "      <th>sepal_length</th>\n",
       "      <th>sepal_width</th>\n",
       "      <th>petal_length</th>\n",
       "      <th>petal_width</th>\n",
       "      <th>species</th>\n",
       "    </tr>\n",
       "  </thead>\n",
       "  <tbody>\n",
       "    <tr>\n",
       "      <th>0</th>\n",
       "      <td>5.1</td>\n",
       "      <td>3.5</td>\n",
       "      <td>1.4</td>\n",
       "      <td>0.2</td>\n",
       "      <td>setosa</td>\n",
       "    </tr>\n",
       "    <tr>\n",
       "      <th>1</th>\n",
       "      <td>4.9</td>\n",
       "      <td>3.0</td>\n",
       "      <td>1.4</td>\n",
       "      <td>0.2</td>\n",
       "      <td>setosa</td>\n",
       "    </tr>\n",
       "    <tr>\n",
       "      <th>2</th>\n",
       "      <td>4.7</td>\n",
       "      <td>3.2</td>\n",
       "      <td>1.3</td>\n",
       "      <td>0.2</td>\n",
       "      <td>setosa</td>\n",
       "    </tr>\n",
       "    <tr>\n",
       "      <th>3</th>\n",
       "      <td>4.6</td>\n",
       "      <td>3.1</td>\n",
       "      <td>1.5</td>\n",
       "      <td>0.2</td>\n",
       "      <td>setosa</td>\n",
       "    </tr>\n",
       "    <tr>\n",
       "      <th>4</th>\n",
       "      <td>5.0</td>\n",
       "      <td>3.6</td>\n",
       "      <td>1.4</td>\n",
       "      <td>0.2</td>\n",
       "      <td>setosa</td>\n",
       "    </tr>\n",
       "  </tbody>\n",
       "</table>\n",
       "</div>"
      ],
      "text/plain": [
       "   sepal_length  sepal_width  petal_length  petal_width species\n",
       "0           5.1          3.5           1.4          0.2  setosa\n",
       "1           4.9          3.0           1.4          0.2  setosa\n",
       "2           4.7          3.2           1.3          0.2  setosa\n",
       "3           4.6          3.1           1.5          0.2  setosa\n",
       "4           5.0          3.6           1.4          0.2  setosa"
      ]
     },
     "execution_count": 20,
     "metadata": {},
     "output_type": "execute_result"
    }
   ],
   "source": [
    "iris.head()"
   ]
  },
  {
   "cell_type": "code",
   "execution_count": 21,
   "metadata": {},
   "outputs": [
    {
     "name": "stdout",
     "output_type": "stream",
     "text": [
      "<class 'pandas.core.frame.DataFrame'>\n",
      "RangeIndex: 150 entries, 0 to 149\n",
      "Data columns (total 5 columns):\n",
      " #   Column        Non-Null Count  Dtype  \n",
      "---  ------        --------------  -----  \n",
      " 0   sepal_length  150 non-null    float64\n",
      " 1   sepal_width   150 non-null    float64\n",
      " 2   petal_length  150 non-null    float64\n",
      " 3   petal_width   150 non-null    float64\n",
      " 4   species       150 non-null    object \n",
      "dtypes: float64(4), object(1)\n",
      "memory usage: 6.0+ KB\n"
     ]
    }
   ],
   "source": [
    "iris.info()"
   ]
  },
  {
   "cell_type": "code",
   "execution_count": 22,
   "metadata": {},
   "outputs": [
    {
     "data": {
      "text/plain": [
       "dtype('float64')"
      ]
     },
     "execution_count": 22,
     "metadata": {},
     "output_type": "execute_result"
    }
   ],
   "source": [
    "iris['sepal_length'].dtype"
   ]
  },
  {
   "attachments": {},
   "cell_type": "markdown",
   "metadata": {},
   "source": [
    "---\n",
    "to convert the variable from object datatype to categorical datatype"
   ]
  },
  {
   "cell_type": "code",
   "execution_count": 28,
   "metadata": {},
   "outputs": [
    {
     "name": "stdout",
     "output_type": "stream",
     "text": [
      "['setosa', 'versicolor', 'virginica']\n",
      "Categories (3, object): ['setosa', 'versicolor', 'virginica']\n",
      "<class 'pandas.core.frame.DataFrame'>\n",
      "RangeIndex: 150 entries, 0 to 149\n",
      "Data columns (total 5 columns):\n",
      " #   Column        Non-Null Count  Dtype   \n",
      "---  ------        --------------  -----   \n",
      " 0   sepal_length  150 non-null    float64 \n",
      " 1   sepal_width   150 non-null    float64 \n",
      " 2   petal_length  150 non-null    float64 \n",
      " 3   petal_width   150 non-null    float64 \n",
      " 4   species       150 non-null    category\n",
      "dtypes: category(1), float64(4)\n",
      "memory usage: 5.1 KB\n"
     ]
    }
   ],
   "source": [
    "print(iris['species'].unique())\n",
    "iris['species'] = pd.Categorical(iris['species'])\n",
    "iris.info()"
   ]
  },
  {
   "attachments": {},
   "cell_type": "markdown",
   "metadata": {},
   "source": [
    "---\n",
    "to check the categories for species "
   ]
  },
  {
   "cell_type": "code",
   "execution_count": 31,
   "metadata": {},
   "outputs": [
    {
     "data": {
      "text/plain": [
       "['setosa', 'versicolor', 'virginica']\n",
       "Categories (3, object): ['setosa', 'versicolor', 'virginica']"
      ]
     },
     "execution_count": 31,
     "metadata": {},
     "output_type": "execute_result"
    }
   ],
   "source": [
    "iris['species'].unique()"
   ]
  },
  {
   "attachments": {},
   "cell_type": "markdown",
   "metadata": {},
   "source": [
    "to perform the "
   ]
  }
 ],
 "metadata": {
  "kernelspec": {
   "display_name": "Python 3",
   "language": "python",
   "name": "python3"
  },
  "language_info": {
   "codemirror_mode": {
    "name": "ipython",
    "version": 3
   },
   "file_extension": ".py",
   "mimetype": "text/x-python",
   "name": "python",
   "nbconvert_exporter": "python",
   "pygments_lexer": "ipython3",
   "version": "3.10.10"
  },
  "orig_nbformat": 4
 },
 "nbformat": 4,
 "nbformat_minor": 2
}
