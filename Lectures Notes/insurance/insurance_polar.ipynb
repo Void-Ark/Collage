{
 "cells": [
  {
   "cell_type": "code",
   "execution_count": 1,
   "metadata": {},
   "outputs": [],
   "source": [
    "import polars as pl "
   ]
  },
  {
   "cell_type": "code",
   "execution_count": 2,
   "metadata": {},
   "outputs": [],
   "source": [
    "df = pl.read_csv('insurance.csv')"
   ]
  },
  {
   "cell_type": "code",
   "execution_count": 5,
   "metadata": {},
   "outputs": [
    {
     "data": {
      "text/html": [
       "<div><style>\n",
       ".dataframe > thead > tr > th,\n",
       ".dataframe > tbody > tr > td {\n",
       "  text-align: right;\n",
       "}\n",
       "</style>\n",
       "<small>shape: (0, 8035)</small><table border=\"1\" class=\"dataframe\"><thead><tr><th>age</th><th>sex</th><th>bmi</th><th>children</th><th>smoker</th><th>region</th><th>expenses\r19</th><th>female</th><th>27.9</th><th>0</th><th>yes</th><th>southwest</th><th>16884.92\r18</th><th>male</th><th>33.8</th><th>1</th><th>no</th><th>southeast</th><th>1725.55\r28</th><th>male_duplicated_0</th><th>33.0</th><th>3</th><th>no_duplicated_0</th><th>southeast_duplicated_0</th><th>4449.46\r33</th><th>male_duplicated_1</th><th>22.7</th><th>0_duplicated_0</th><th>no_duplicated_1</th><th>northwest</th><th>21984.47\r32</th><th>male_duplicated_2</th><th>28.9</th><th>0_duplicated_1</th><th>no_duplicated_2</th><th>northwest_duplicated_0</th><th>3866.86\r31</th><th>&hellip;</th><th>10795.94\r52</th><th>female_duplicated_656</th><th>44.7_duplicated_0</th><th>3_duplicated_154</th><th>no_duplicated_1058</th><th>southwest_duplicated_322</th><th>11411.69\r50</th><th>male_duplicated_674</th><th>31.0_duplicated_4</th><th>3_duplicated_155</th><th>no_duplicated_1059</th><th>northwest_duplicated_322</th><th>10600.55\r18</th><th>female_duplicated_657</th><th>31.9_duplicated_6</th><th>0_duplicated_569</th><th>no_duplicated_1060</th><th>northeast_duplicated_322</th><th>2205.98\r18</th><th>female_duplicated_658</th><th>36.9_duplicated_6</th><th>0_duplicated_570</th><th>no_duplicated_1061</th><th>southeast_duplicated_362</th><th>1629.83\r21</th><th>female_duplicated_659</th><th>25.8_duplicated_10</th><th>0_duplicated_571</th><th>no_duplicated_1062</th><th>southwest_duplicated_323</th><th>2007.95\r61</th><th>female_duplicated_660</th><th>29.1_duplicated_1</th><th>0_duplicated_572</th><th>yes_duplicated_272</th><th>northwest_duplicated_323</th><th>29141.36</th></tr><tr><td>str</td><td>str</td><td>str</td><td>str</td><td>str</td><td>str</td><td>str</td><td>str</td><td>str</td><td>str</td><td>str</td><td>str</td><td>str</td><td>str</td><td>str</td><td>str</td><td>str</td><td>str</td><td>str</td><td>str</td><td>str</td><td>str</td><td>str</td><td>str</td><td>str</td><td>str</td><td>str</td><td>str</td><td>str</td><td>str</td><td>str</td><td>str</td><td>str</td><td>str</td><td>str</td><td>str</td><td>str</td><td>&hellip;</td><td>str</td><td>str</td><td>str</td><td>str</td><td>str</td><td>str</td><td>str</td><td>str</td><td>str</td><td>str</td><td>str</td><td>str</td><td>str</td><td>str</td><td>str</td><td>str</td><td>str</td><td>str</td><td>str</td><td>str</td><td>str</td><td>str</td><td>str</td><td>str</td><td>str</td><td>str</td><td>str</td><td>str</td><td>str</td><td>str</td><td>str</td><td>str</td><td>str</td><td>str</td><td>str</td><td>str</td><td>str</td></tr></thead><tbody></tbody></table></div>"
      ],
      "text/plain": [
       "shape: (0, 8035)\n",
       "┌─────┬─────┬─────┬──────────┬───┬──────────────────┬─────────────────┬─────────────────┬──────────┐\n",
       "│ age ┆ sex ┆ bmi ┆ children ┆ … ┆ 0_duplicated_572 ┆ yes_duplicated_ ┆ northwest_dupli ┆ 29141.36 │\n",
       "│ --- ┆ --- ┆ --- ┆ ---      ┆   ┆ ---              ┆ 272             ┆ cated_323       ┆ ---      │\n",
       "│ str ┆ str ┆ str ┆ str      ┆   ┆ str              ┆ ---             ┆ ---             ┆ str      │\n",
       "│     ┆     ┆     ┆          ┆   ┆                  ┆ str             ┆ str             ┆          │\n",
       "╞═════╪═════╪═════╪══════════╪═══╪══════════════════╪═════════════════╪═════════════════╪══════════╡\n",
       "└─────┴─────┴─────┴──────────┴───┴──────────────────┴─────────────────┴─────────────────┴──────────┘"
      ]
     },
     "execution_count": 5,
     "metadata": {},
     "output_type": "execute_result"
    }
   ],
   "source": [
    "df.head()"
   ]
  }
 ],
 "metadata": {
  "kernelspec": {
   "display_name": "Python 3",
   "language": "python",
   "name": "python3"
  },
  "language_info": {
   "codemirror_mode": {
    "name": "ipython",
    "version": 3
   },
   "file_extension": ".py",
   "mimetype": "text/x-python",
   "name": "python",
   "nbconvert_exporter": "python",
   "pygments_lexer": "ipython3",
   "version": "3.10.10"
  },
  "orig_nbformat": 4
 },
 "nbformat": 4,
 "nbformat_minor": 2
}
